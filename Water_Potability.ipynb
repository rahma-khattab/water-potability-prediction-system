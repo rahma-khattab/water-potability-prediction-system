{
  "cells": [
    {
      "cell_type": "markdown",
      "metadata": {
        "id": "rMd8ovghk_Cw"
      },
      "source": [
        "### 🔹Importing Libraries and Discovering Dataset"
      ]
    },
    {
      "cell_type": "code",
      "execution_count": 1,
      "metadata": {
        "id": "aWns2O-IgYAb"
      },
      "outputs": [],
      "source": [
        "import numpy as np\n",
        "import pandas as pd\n",
        "from matplotlib import pyplot\n",
        "import matplotlib.pyplot as plt\n",
        "import plotly.express as px\n",
        "import seaborn as sns\n",
        "import plotly.graph_objs as go\n",
        "import plotly.io as pio\n",
        "\n",
        "from sklearn import preprocessing\n",
        "from sklearn.preprocessing import MinMaxScaler\n",
        "from sklearn.preprocessing import StandardScaler\n",
        "from sklearn.decomposition import PCA\n",
        "from sklearn import metrics\n",
        "from sklearn.utils import resample, shuffle\n",
        "from sklearn.metrics import silhouette_score, accuracy_score, confusion_matrix, classification_report\n",
        "from sklearn.model_selection import train_test_split\n",
        "from sklearn.tree import DecisionTreeClassifier\n",
        "from sklearn.linear_model import LogisticRegression\n",
        "from sklearn.svm import SVC\n",
        "from sklearn.ensemble import RandomForestClassifier\n",
        "from sklearn.model_selection import GridSearchCV\n",
        "from sklearn.ensemble import GradientBoostingClassifier\n",
        "from sklearn.neighbors import KNeighborsClassifier\n",
        "\n",
        "\n",
        "import joblib\n",
        "import pickle\n",
        "import warnings\n",
        "warnings.filterwarnings('ignore')"
      ]
    },
    {
      "cell_type": "code",
      "execution_count": 2,
      "metadata": {
        "colab": {
          "base_uri": "https://localhost:8080/",
          "height": 206
        },
        "id": "YaMTBhAEgkJ1",
        "outputId": "ab5f00c8-a9d9-4f80-ee08-1d6504b4f8f7"
      },
      "outputs": [
        {
          "data": {
            "text/html": [
              "<div>\n",
              "<style scoped>\n",
              "    .dataframe tbody tr th:only-of-type {\n",
              "        vertical-align: middle;\n",
              "    }\n",
              "\n",
              "    .dataframe tbody tr th {\n",
              "        vertical-align: top;\n",
              "    }\n",
              "\n",
              "    .dataframe thead th {\n",
              "        text-align: right;\n",
              "    }\n",
              "</style>\n",
              "<table border=\"1\" class=\"dataframe\">\n",
              "  <thead>\n",
              "    <tr style=\"text-align: right;\">\n",
              "      <th></th>\n",
              "      <th>ph</th>\n",
              "      <th>Hardness</th>\n",
              "      <th>Solids</th>\n",
              "      <th>Chloramines</th>\n",
              "      <th>Sulfate</th>\n",
              "      <th>Conductivity</th>\n",
              "      <th>Organic_carbon</th>\n",
              "      <th>Trihalomethanes</th>\n",
              "      <th>Turbidity</th>\n",
              "      <th>Potability</th>\n",
              "    </tr>\n",
              "  </thead>\n",
              "  <tbody>\n",
              "    <tr>\n",
              "      <th>0</th>\n",
              "      <td>NaN</td>\n",
              "      <td>204.890456</td>\n",
              "      <td>20791.31898</td>\n",
              "      <td>7.300212</td>\n",
              "      <td>368.516441</td>\n",
              "      <td>564.308654</td>\n",
              "      <td>10.379783</td>\n",
              "      <td>86.990970</td>\n",
              "      <td>2.963135</td>\n",
              "      <td>0</td>\n",
              "    </tr>\n",
              "    <tr>\n",
              "      <th>1</th>\n",
              "      <td>3.716080</td>\n",
              "      <td>129.422921</td>\n",
              "      <td>18630.05786</td>\n",
              "      <td>6.635246</td>\n",
              "      <td>NaN</td>\n",
              "      <td>592.885359</td>\n",
              "      <td>15.180013</td>\n",
              "      <td>56.329076</td>\n",
              "      <td>4.500656</td>\n",
              "      <td>0</td>\n",
              "    </tr>\n",
              "    <tr>\n",
              "      <th>2</th>\n",
              "      <td>8.099124</td>\n",
              "      <td>224.236259</td>\n",
              "      <td>19909.54173</td>\n",
              "      <td>9.275884</td>\n",
              "      <td>NaN</td>\n",
              "      <td>418.606213</td>\n",
              "      <td>16.868637</td>\n",
              "      <td>66.420093</td>\n",
              "      <td>3.055934</td>\n",
              "      <td>0</td>\n",
              "    </tr>\n",
              "    <tr>\n",
              "      <th>3</th>\n",
              "      <td>8.316766</td>\n",
              "      <td>214.373394</td>\n",
              "      <td>22018.41744</td>\n",
              "      <td>8.059332</td>\n",
              "      <td>356.886136</td>\n",
              "      <td>363.266516</td>\n",
              "      <td>18.436525</td>\n",
              "      <td>100.341674</td>\n",
              "      <td>4.628771</td>\n",
              "      <td>0</td>\n",
              "    </tr>\n",
              "    <tr>\n",
              "      <th>4</th>\n",
              "      <td>9.092223</td>\n",
              "      <td>181.101509</td>\n",
              "      <td>17978.98634</td>\n",
              "      <td>6.546600</td>\n",
              "      <td>310.135738</td>\n",
              "      <td>398.410813</td>\n",
              "      <td>11.558279</td>\n",
              "      <td>31.997993</td>\n",
              "      <td>4.075075</td>\n",
              "      <td>0</td>\n",
              "    </tr>\n",
              "  </tbody>\n",
              "</table>\n",
              "</div>"
            ],
            "text/plain": [
              "         ph    Hardness       Solids  Chloramines     Sulfate  Conductivity  \\\n",
              "0       NaN  204.890456  20791.31898     7.300212  368.516441    564.308654   \n",
              "1  3.716080  129.422921  18630.05786     6.635246         NaN    592.885359   \n",
              "2  8.099124  224.236259  19909.54173     9.275884         NaN    418.606213   \n",
              "3  8.316766  214.373394  22018.41744     8.059332  356.886136    363.266516   \n",
              "4  9.092223  181.101509  17978.98634     6.546600  310.135738    398.410813   \n",
              "\n",
              "   Organic_carbon  Trihalomethanes  Turbidity  Potability  \n",
              "0       10.379783        86.990970   2.963135           0  \n",
              "1       15.180013        56.329076   4.500656           0  \n",
              "2       16.868637        66.420093   3.055934           0  \n",
              "3       18.436525       100.341674   4.628771           0  \n",
              "4       11.558279        31.997993   4.075075           0  "
            ]
          },
          "execution_count": 2,
          "metadata": {},
          "output_type": "execute_result"
        }
      ],
      "source": [
        "water = pd.read_csv('water_potability.csv')\n",
        "water.head()"
      ]
    },
    {
      "cell_type": "code",
      "execution_count": 3,
      "metadata": {
        "colab": {
          "base_uri": "https://localhost:8080/"
        },
        "id": "yVF8WH5hgvMf",
        "outputId": "a7321a3c-8020-4ad9-d7b7-de3d2f59a942"
      },
      "outputs": [
        {
          "data": {
            "text/plain": [
              "ph                 491\n",
              "Hardness             0\n",
              "Solids               0\n",
              "Chloramines          0\n",
              "Sulfate            781\n",
              "Conductivity         0\n",
              "Organic_carbon       0\n",
              "Trihalomethanes    162\n",
              "Turbidity            0\n",
              "Potability           0\n",
              "dtype: int64"
            ]
          },
          "execution_count": 3,
          "metadata": {},
          "output_type": "execute_result"
        }
      ],
      "source": [
        "water.isnull().sum()"
      ]
    },
    {
      "cell_type": "code",
      "execution_count": 4,
      "metadata": {
        "colab": {
          "base_uri": "https://localhost:8080/"
        },
        "id": "b1DTC9cLlIl4",
        "outputId": "427ba9c1-8f2e-4f2d-94ee-17fcf9d3ac04"
      },
      "outputs": [
        {
          "data": {
            "text/plain": [
              "(3276, 10)"
            ]
          },
          "execution_count": 4,
          "metadata": {},
          "output_type": "execute_result"
        }
      ],
      "source": [
        "water.shape"
      ]
    },
    {
      "cell_type": "code",
      "execution_count": 5,
      "metadata": {
        "colab": {
          "base_uri": "https://localhost:8080/"
        },
        "id": "CWufvf14ldjO",
        "outputId": "74954bef-6f04-4d3a-82ed-29d70ce4bd29"
      },
      "outputs": [
        {
          "data": {
            "text/plain": [
              "0"
            ]
          },
          "execution_count": 5,
          "metadata": {},
          "output_type": "execute_result"
        }
      ],
      "source": [
        "water.duplicated().sum()"
      ]
    },
    {
      "cell_type": "code",
      "execution_count": 6,
      "metadata": {
        "colab": {
          "base_uri": "https://localhost:8080/"
        },
        "id": "4xz96w8WlLeX",
        "outputId": "8be8571a-558e-417e-f22f-0ec2de8637b8"
      },
      "outputs": [
        {
          "name": "stdout",
          "output_type": "stream",
          "text": [
            "<class 'pandas.core.frame.DataFrame'>\n",
            "RangeIndex: 3276 entries, 0 to 3275\n",
            "Data columns (total 10 columns):\n",
            " #   Column           Non-Null Count  Dtype  \n",
            "---  ------           --------------  -----  \n",
            " 0   ph               2785 non-null   float64\n",
            " 1   Hardness         3276 non-null   float64\n",
            " 2   Solids           3276 non-null   float64\n",
            " 3   Chloramines      3276 non-null   float64\n",
            " 4   Sulfate          2495 non-null   float64\n",
            " 5   Conductivity     3276 non-null   float64\n",
            " 6   Organic_carbon   3276 non-null   float64\n",
            " 7   Trihalomethanes  3114 non-null   float64\n",
            " 8   Turbidity        3276 non-null   float64\n",
            " 9   Potability       3276 non-null   int64  \n",
            "dtypes: float64(9), int64(1)\n",
            "memory usage: 256.1 KB\n"
          ]
        }
      ],
      "source": [
        "water.info()"
      ]
    },
    {
      "cell_type": "code",
      "execution_count": 7,
      "metadata": {
        "colab": {
          "base_uri": "https://localhost:8080/"
        },
        "id": "AbGcEWINlODA",
        "outputId": "ea88b927-8458-428a-9540-e4342b779d56"
      },
      "outputs": [
        {
          "data": {
            "text/plain": [
              "Index(['ph', 'Hardness', 'Solids', 'Chloramines', 'Sulfate', 'Conductivity',\n",
              "       'Organic_carbon', 'Trihalomethanes', 'Turbidity', 'Potability'],\n",
              "      dtype='object')"
            ]
          },
          "execution_count": 7,
          "metadata": {},
          "output_type": "execute_result"
        }
      ],
      "source": [
        "water.columns"
      ]
    },
    {
      "cell_type": "code",
      "execution_count": 8,
      "metadata": {
        "colab": {
          "base_uri": "https://localhost:8080/",
          "height": 1000
        },
        "id": "u2V6CeUwl_9Y",
        "outputId": "b8f54328-97af-472d-eb79-87aaef446df7"
      },
      "outputs": [
        {
          "data": {
            "text/plain": [
              "<Axes: >"
            ]
          },
          "execution_count": 8,
          "metadata": {},
          "output_type": "execute_result"
        },
        {
          "data": {
            "image/png": "[encoded data removed]",
            "text/plain": [
              "<Figure size 1500x1300 with 2 Axes>"
            ]
          },
          "metadata": {},
          "output_type": "display_data"
        }
      ],
      "source": [
        "#mmkn ttshal w asebha fl visualization\n",
        "correlation = water.corr()\n",
        "plt.figure(figsize=(15, 13))\n",
        "sns.heatmap(correlation, annot=True, cmap='Blues')"
      ]
    },
    {
      "cell_type": "markdown",
      "metadata": {
        "id": "NIp0S_hwlQsI"
      },
      "source": [
        "### 🔹Checking Missing Values"
      ]
    },
    {
      "cell_type": "code",
      "execution_count": 9,
      "metadata": {
        "id": "bPnuw-4rlapT"
      },
      "outputs": [],
      "source": [
        "#A function to calculate null %\n",
        "def get_null_percentages(df):\n",
        "  null_counts = df.isnull().sum()\n",
        "  total_counts = len(df)\n",
        "  #avoid division by zero for empty DataFrames\n",
        "  if total_counts == 0:\n",
        "    return pd.Series(0, index=df.columns)\n",
        "  return (null_counts / total_counts) * 100"
      ]
    },
    {
      "cell_type": "code",
      "execution_count": 10,
      "metadata": {
        "colab": {
          "base_uri": "https://localhost:8080/"
        },
        "id": "36M2POLMll71",
        "outputId": "a70b688e-446d-498a-8ff1-4ed272e4ccbf"
      },
      "outputs": [
        {
          "data": {
            "text/plain": [
              "ph                 491\n",
              "Hardness             0\n",
              "Solids               0\n",
              "Chloramines          0\n",
              "Sulfate            781\n",
              "Conductivity         0\n",
              "Organic_carbon       0\n",
              "Trihalomethanes    162\n",
              "Turbidity            0\n",
              "Potability           0\n",
              "dtype: int64"
            ]
          },
          "execution_count": 10,
          "metadata": {},
          "output_type": "execute_result"
        }
      ],
      "source": [
        "water.isnull().sum()"
      ]
    },
    {
      "cell_type": "code",
      "execution_count": 11,
      "metadata": {
        "colab": {
          "base_uri": "https://localhost:8080/"
        },
        "id": "aJZNVbCXlodk",
        "outputId": "ce7f8381-8d47-4237-a7d3-0b49e5795771"
      },
      "outputs": [
        {
          "name": "stdout",
          "output_type": "stream",
          "text": [
            "Percentage of null values in each column for water: (%)\n",
            "ph                 14.987790\n",
            "Hardness            0.000000\n",
            "Solids              0.000000\n",
            "Chloramines         0.000000\n",
            "Sulfate            23.840049\n",
            "Conductivity        0.000000\n",
            "Organic_carbon      0.000000\n",
            "Trihalomethanes     4.945055\n",
            "Turbidity           0.000000\n",
            "Potability          0.000000\n"
          ]
        }
      ],
      "source": [
        "null_percentages_water = get_null_percentages(water.copy())\n",
        "print(\"Percentage of null values in each column for water: (%)\")\n",
        "print(null_percentages_water.to_string())"
      ]
    },
    {
      "cell_type": "code",
      "execution_count": 12,
      "metadata": {
        "colab": {
          "base_uri": "https://localhost:8080/",
          "height": 487
        },
        "id": "INZUIMbHmHtH",
        "outputId": "d2baecc1-1070-4721-c2ea-e67d80873f61"
      },
      "outputs": [
        {
          "data": {
            "image/png": "[encoded data removed]",
            "text/plain": [
              "<Figure size 800x500 with 1 Axes>"
            ]
          },
          "metadata": {},
          "output_type": "display_data"
        }
      ],
      "source": [
        "data_sulfate = water['Sulfate']\n",
        "\n",
        "#histogram\n",
        "plt.figure(figsize=(8, 5))\n",
        "sns.histplot(data_sulfate, kde=True, color='skyblue')\n",
        "plt.title('Histogram of Sulfate Column')\n",
        "plt.xlabel('Value')\n",
        "plt.ylabel('Frequency')\n",
        "plt.show()"
      ]
    },
    {
      "cell_type": "code",
      "execution_count": 13,
      "metadata": {
        "colab": {
          "base_uri": "https://localhost:8080/",
          "height": 487
        },
        "id": "rOKZfcN6mIVC",
        "outputId": "a7ad26d6-da0f-47a7-9157-0d9eb0c43592"
      },
      "outputs": [
        {
          "data": {
            "image/png": "[encoded data removed]",
            "text/plain": [
              "<Figure size 800x500 with 1 Axes>"
            ]
          },
          "metadata": {},
          "output_type": "display_data"
        }
      ],
      "source": [
        "data_ph = water['ph']\n",
        "\n",
        "#histogram\n",
        "plt.figure(figsize=(8, 5))\n",
        "sns.histplot(data_ph, kde=True, color='skyblue')\n",
        "plt.title('Histogram of ph Column')\n",
        "plt.xlabel('Value')\n",
        "plt.ylabel('Frequency')\n",
        "plt.show()"
      ]
    },
    {
      "cell_type": "code",
      "execution_count": 14,
      "metadata": {
        "colab": {
          "base_uri": "https://localhost:8080/",
          "height": 487
        },
        "id": "jZvodtK-mMI2",
        "outputId": "029d5dda-0e5c-4110-aa26-dcc0c7181c86"
      },
      "outputs": [
        {
          "data": {
            "image/png": "[encoded data removed]",
            "text/plain": [
              "<Figure size 800x500 with 1 Axes>"
            ]
          },
          "metadata": {},
          "output_type": "display_data"
        }
      ],
      "source": [
        "data_Trihalomethanes = water['Trihalomethanes']\n",
        "\n",
        "#histogram\n",
        "plt.figure(figsize=(8, 5))\n",
        "sns.histplot(data_Trihalomethanes, kde=True, color='skyblue')\n",
        "plt.title('Histogram of Trihalomethanes Column')\n",
        "plt.xlabel('Value')\n",
        "plt.ylabel('Frequency')\n",
        "plt.show()"
      ]
    },
    {
      "cell_type": "markdown",
      "metadata": {
        "id": "-84RXryimQwk"
      },
      "source": [
        "> * conclusion: data for 3 columns having NULLS (ph, sulfate, trihalomethanes) is normally distributed, therefore, replacing nulls with median \"as it is less sensitive to outliers than the mean\",  and not deleting their whole rows."
      ]
    },
    {
      "cell_type": "code",
      "execution_count": 15,
      "metadata": {
        "colab": {
          "base_uri": "https://localhost:8080/"
        },
        "id": "T5KTeaA_gwxX",
        "outputId": "74614365-c5b4-4f35-d658-90ea94451a3e"
      },
      "outputs": [
        {
          "data": {
            "text/plain": [
              "ph                 0\n",
              "Hardness           0\n",
              "Solids             0\n",
              "Chloramines        0\n",
              "Sulfate            0\n",
              "Conductivity       0\n",
              "Organic_carbon     0\n",
              "Trihalomethanes    0\n",
              "Turbidity          0\n",
              "Potability         0\n",
              "dtype: int64"
            ]
          },
          "execution_count": 15,
          "metadata": {},
          "output_type": "execute_result"
        }
      ],
      "source": [
        "false_mean_ph = water.loc[water['Potability'] == 0, 'ph'].median()\n",
        "true_mean_ph = water.loc[water['Potability'] == 1, 'ph'].median()\n",
        "\n",
        "false_mean_sulfate = water.loc[water['Potability'] == 0, 'Sulfate'].median()\n",
        "true_mean_sulfate = water.loc[water['Potability'] == 1, 'Sulfate'].median()\n",
        "\n",
        "false_mean_trihalomethanes = water.loc[water['Potability'] == 0, 'Trihalomethanes'].median()\n",
        "true_mean_trihalomethanes = water.loc[water['Potability'] == 1, 'Trihalomethanes'].median()\n",
        "\n",
        "# Fill missing values using numpy's where function\n",
        "water['ph'] = np.where((water['Potability'] == 0) & (water['ph'].isnull()), false_mean_ph, water['ph'])\n",
        "water['ph'] = np.where((water['Potability'] == 1) & (water['ph'].isnull()), true_mean_ph, water['ph'])\n",
        "\n",
        "water['Sulfate'] = np.where((water['Potability'] == 0) & (water['Sulfate'].isnull()), false_mean_sulfate, water['Sulfate'])\n",
        "water['Sulfate'] = np.where((water['Potability'] == 1) & (water['Sulfate'].isnull()), true_mean_sulfate, water['Sulfate'])\n",
        "\n",
        "water['Trihalomethanes'] = np.where((water['Potability'] == 0) & (water['Trihalomethanes'].isnull()), false_mean_trihalomethanes, water['Trihalomethanes'])\n",
        "water['Trihalomethanes'] = np.where((water['Potability'] == 1) & (water['Trihalomethanes'].isnull()), true_mean_trihalomethanes, water['Trihalomethanes'])\n",
        "\n",
        "# Validation\n",
        "water.isnull().sum()"
      ]
    },
    {
      "cell_type": "markdown",
      "metadata": {
        "id": "6PcA4cWEmiGa"
      },
      "source": [
        "### 🔹Oversampling"
      ]
    },
    {
      "cell_type": "code",
      "execution_count": 16,
      "metadata": {
        "colab": {
          "base_uri": "https://localhost:8080/",
          "height": 542
        },
        "id": "V0Iihxu7g9NT",
        "outputId": "8f06f6de-3565-42ed-dd26-20656f628a67"
      },
      "outputs": [
        {
          "data": {
            "application/vnd.plotly.v1+json": {
              "config": {
                "plotlyServerURL": "https://plot.ly"
              },
              "data": [
                {
                  "domain": {
                    "x": [
                      0,
                      1
                    ],
                    "y": [
                      0,
                      1
                    ]
                  },
                  "hovertemplate": "Potability=%{label}<br>value=%{value}<extra></extra>",
                  "labels": [
                    0,
                    1
                  ],
                  "legendgroup": "",
                  "marker": {
                    "colors": [
                      "#1f77b4",
                      "#aec7e8"
                    ]
                  },
                  "name": "",
                  "showlegend": true,
                  "type": "pie",
                  "values": [
                    1998,
                    1278
                  ]
                }
              ],
              "layout": {
                "legend": {
                  "tracegroupgap": 0
                },
                "template": {
                  "data": {
                    "bar": [
                      {
                        "error_x": {
                          "color": "#2a3f5f"
                        },
                        "error_y": {
                          "color": "#2a3f5f"
                        },
                        "marker": {
                          "line": {
                            "color": "#E5ECF6",
                            "width": 0.5
                          },
                          "pattern": {
                            "fillmode": "overlay",
                            "size": 10,
                            "solidity": 0.2
                          }
                        },
                        "type": "bar"
                      }
                    ],
                    "barpolar": [
                      {
                        "marker": {
                          "line": {
                            "color": "#E5ECF6",
                            "width": 0.5
                          },
                          "pattern": {
                            "fillmode": "overlay",
                            "size": 10,
                            "solidity": 0.2
                          }
                        },
                        "type": "barpolar"
                      }
                    ],
                    "carpet": [
                      {
                        "aaxis": {
                          "endlinecolor": "#2a3f5f",
                          "gridcolor": "white",
                          "linecolor": "white",
                          "minorgridcolor": "white",
                          "startlinecolor": "#2a3f5f"
                        },
                        "baxis": {
                          "endlinecolor": "#2a3f5f",
                          "gridcolor": "white",
                          "linecolor": "white",
                          "minorgridcolor": "white",
                          "startlinecolor": "#2a3f5f"
                        },
                        "type": "carpet"
                      }
                    ],
                    "choropleth": [
                      {
                        "colorbar": {
                          "outlinewidth": 0,
                          "ticks": ""
                        },
                        "type": "choropleth"
                      }
                    ],
                    "contour": [
                      {
                        "colorbar": {
                          "outlinewidth": 0,
                          "ticks": ""
                        },
                        "colorscale": [
                          [
                            0,
                            "#0d0887"
                          ],
                          [
                            0.1111111111111111,
                            "#46039f"
                          ],
                          [
                            0.2222222222222222,
                            "#7201a8"
                          ],
                          [
                            0.3333333333333333,
                            "#9c179e"
                          ],
                          [
                            0.4444444444444444,
                            "#bd3786"
                          ],
                          [
                            0.5555555555555556,
                            "#d8576b"
                          ],
                          [
                            0.6666666666666666,
                            "#ed7953"
                          ],
                          [
                            0.7777777777777778,
                            "#fb9f3a"
                          ],
                          [
                            0.8888888888888888,
                            "#fdca26"
                          ],
                          [
                            1,
                            "#f0f921"
                          ]
                        ],
                        "type": "contour"
                      }
                    ],
                    "contourcarpet": [
                      {
                        "colorbar": {
                          "outlinewidth": 0,
                          "ticks": ""
                        },
                        "type": "contourcarpet"
                      }
                    ],
                    "heatmap": [
                      {
                        "colorbar": {
                          "outlinewidth": 0,
                          "ticks": ""
                        },
                        "colorscale": [
                          [
                            0,
                            "#0d0887"
                          ],
                          [
                            0.1111111111111111,
                            "#46039f"
                          ],
                          [
                            0.2222222222222222,
                            "#7201a8"
                          ],
                          [
                            0.3333333333333333,
                            "#9c179e"
                          ],
                          [
                            0.4444444444444444,
                            "#bd3786"
                          ],
                          [
                            0.5555555555555556,
                            "#d8576b"
                          ],
                          [
                            0.6666666666666666,
                            "#ed7953"
                          ],
                          [
                            0.7777777777777778,
                            "#fb9f3a"
                          ],
                          [
                            0.8888888888888888,
                            "#fdca26"
                          ],
                          [
                            1,
                            "#f0f921"
                          ]
                        ],
                        "type": "heatmap"
                      }
                    ],
                    "heatmapgl": [
                      {
                        "colorbar": {
                          "outlinewidth": 0,
                          "ticks": ""
                        },
                        "colorscale": [
                          [
                            0,
                            "#0d0887"
                          ],
                          [
                            0.1111111111111111,
                            "#46039f"
                          ],
                          [
                            0.2222222222222222,
                            "#7201a8"
                          ],
                          [
                            0.3333333333333333,
                            "#9c179e"
                          ],
                          [
                            0.4444444444444444,
                            "#bd3786"
                          ],
                          [
                            0.5555555555555556,
                            "#d8576b"
                          ],
                          [
                            0.6666666666666666,
                            "#ed7953"
                          ],
                          [
                            0.7777777777777778,
                            "#fb9f3a"
                          ],
                          [
                            0.8888888888888888,
                            "#fdca26"
                          ],
                          [
                            1,
                            "#f0f921"
                          ]
                        ],
                        "type": "heatmapgl"
                      }
                    ],
                    "histogram": [
                      {
                        "marker": {
                          "pattern": {
                            "fillmode": "overlay",
                            "size": 10,
                            "solidity": 0.2
                          }
                        },
                        "type": "histogram"
                      }
                    ],
                    "histogram2d": [
                      {
                        "colorbar": {
                          "outlinewidth": 0,
                          "ticks": ""
                        },
                        "colorscale": [
                          [
                            0,
                            "#0d0887"
                          ],
                          [
                            0.1111111111111111,
                            "#46039f"
                          ],
                          [
                            0.2222222222222222,
                            "#7201a8"
                          ],
                          [
                            0.3333333333333333,
                            "#9c179e"
                          ],
                          [
                            0.4444444444444444,
                            "#bd3786"
                          ],
                          [
                            0.5555555555555556,
                            "#d8576b"
                          ],
                          [
                            0.6666666666666666,
                            "#ed7953"
                          ],
                          [
                            0.7777777777777778,
                            "#fb9f3a"
                          ],
                          [
                            0.8888888888888888,
                            "#fdca26"
                          ],
                          [
                            1,
                            "#f0f921"
                          ]
                        ],
                        "type": "histogram2d"
                      }
                    ],
                    "histogram2dcontour": [
                      {
                        "colorbar": {
                          "outlinewidth": 0,
                          "ticks": ""
                        },
                        "colorscale": [
                          [
                            0,
                            "#0d0887"
                          ],
                          [
                            0.1111111111111111,
                            "#46039f"
                          ],
                          [
                            0.2222222222222222,
                            "#7201a8"
                          ],
                          [
                            0.3333333333333333,
                            "#9c179e"
                          ],
                          [
                            0.4444444444444444,
                            "#bd3786"
                          ],
                          [
                            0.5555555555555556,
                            "#d8576b"
                          ],
                          [
                            0.6666666666666666,
                            "#ed7953"
                          ],
                          [
                            0.7777777777777778,
                            "#fb9f3a"
                          ],
                          [
                            0.8888888888888888,
                            "#fdca26"
                          ],
                          [
                            1,
                            "#f0f921"
                          ]
                        ],
                        "type": "histogram2dcontour"
                      }
                    ],
                    "mesh3d": [
                      {
                        "colorbar": {
                          "outlinewidth": 0,
                          "ticks": ""
                        },
                        "type": "mesh3d"
                      }
                    ],
                    "parcoords": [
                      {
                        "line": {
                          "colorbar": {
                            "outlinewidth": 0,
                            "ticks": ""
                          }
                        },
                        "type": "parcoords"
                      }
                    ],
                    "pie": [
                      {
                        "automargin": true,
                        "type": "pie"
                      }
                    ],
                    "scatter": [
                      {
                        "fillpattern": {
                          "fillmode": "overlay",
                          "size": 10,
                          "solidity": 0.2
                        },
                        "type": "scatter"
                      }
                    ],
                    "scatter3d": [
                      {
                        "line": {
                          "colorbar": {
                            "outlinewidth": 0,
                            "ticks": ""
                          }
                        },
                        "marker": {
                          "colorbar": {
                            "outlinewidth": 0,
                            "ticks": ""
                          }
                        },
                        "type": "scatter3d"
                      }
                    ],
                    "scattercarpet": [
                      {
                        "marker": {
                          "colorbar": {
                            "outlinewidth": 0,
                            "ticks": ""
                          }
                        },
                        "type": "scattercarpet"
                      }
                    ],
                    "scattergeo": [
                      {
                        "marker": {
                          "colorbar": {
                            "outlinewidth": 0,
                            "ticks": ""
                          }
                        },
                        "type": "scattergeo"
                      }
                    ],
                    "scattergl": [
                      {
                        "marker": {
                          "colorbar": {
                            "outlinewidth": 0,
                            "ticks": ""
                          }
                        },
                        "type": "scattergl"
                      }
                    ],
                    "scattermapbox": [
                      {
                        "marker": {
                          "colorbar": {
                            "outlinewidth": 0,
                            "ticks": ""
                          }
                        },
                        "type": "scattermapbox"
                      }
                    ],
                    "scatterpolar": [
                      {
                        "marker": {
                          "colorbar": {
                            "outlinewidth": 0,
                            "ticks": ""
                          }
                        },
                        "type": "scatterpolar"
                      }
                    ],
                    "scatterpolargl": [
                      {
                        "marker": {
                          "colorbar": {
                            "outlinewidth": 0,
                            "ticks": ""
                          }
                        },
                        "type": "scatterpolargl"
                      }
                    ],
                    "scatterternary": [
                      {
                        "marker": {
                          "colorbar": {
                            "outlinewidth": 0,
                            "ticks": ""
                          }
                        },
                        "type": "scatterternary"
                      }
                    ],
                    "surface": [
                      {
                        "colorbar": {
                          "outlinewidth": 0,
                          "ticks": ""
                        },
                        "colorscale": [
                          [
                            0,
                            "#0d0887"
                          ],
                          [
                            0.1111111111111111,
                            "#46039f"
                          ],
                          [
                            0.2222222222222222,
                            "#7201a8"
                          ],
                          [
                            0.3333333333333333,
                            "#9c179e"
                          ],
                          [
                            0.4444444444444444,
                            "#bd3786"
                          ],
                          [
                            0.5555555555555556,
                            "#d8576b"
                          ],
                          [
                            0.6666666666666666,
                            "#ed7953"
                          ],
                          [
                            0.7777777777777778,
                            "#fb9f3a"
                          ],
                          [
                            0.8888888888888888,
                            "#fdca26"
                          ],
                          [
                            1,
                            "#f0f921"
                          ]
                        ],
                        "type": "surface"
                      }
                    ],
                    "table": [
                      {
                        "cells": {
                          "fill": {
                            "color": "#EBF0F8"
                          },
                          "line": {
                            "color": "white"
                          }
                        },
                        "header": {
                          "fill": {
                            "color": "#C8D4E3"
                          },
                          "line": {
                            "color": "white"
                          }
                        },
                        "type": "table"
                      }
                    ]
                  },
                  "layout": {
                    "annotationdefaults": {
                      "arrowcolor": "#2a3f5f",
                      "arrowhead": 0,
                      "arrowwidth": 1
                    },
                    "autotypenumbers": "strict",
                    "coloraxis": {
                      "colorbar": {
                        "outlinewidth": 0,
                        "ticks": ""
                      }
                    },
                    "colorscale": {
                      "diverging": [
                        [
                          0,
                          "#8e0152"
                        ],
                        [
                          0.1,
                          "#c51b7d"
                        ],
                        [
                          0.2,
                          "#de77ae"
                        ],
                        [
                          0.3,
                          "#f1b6da"
                        ],
                        [
                          0.4,
                          "#fde0ef"
                        ],
                        [
                          0.5,
                          "#f7f7f7"
                        ],
                        [
                          0.6,
                          "#e6f5d0"
                        ],
                        [
                          0.7,
                          "#b8e186"
                        ],
                        [
                          0.8,
                          "#7fbc41"
                        ],
                        [
                          0.9,
                          "#4d9221"
                        ],
                        [
                          1,
                          "#276419"
                        ]
                      ],
                      "sequential": [
                        [
                          0,
                          "#0d0887"
                        ],
                        [
                          0.1111111111111111,
                          "#46039f"
                        ],
                        [
                          0.2222222222222222,
                          "#7201a8"
                        ],
                        [
                          0.3333333333333333,
                          "#9c179e"
                        ],
                        [
                          0.4444444444444444,
                          "#bd3786"
                        ],
                        [
                          0.5555555555555556,
                          "#d8576b"
                        ],
                        [
                          0.6666666666666666,
                          "#ed7953"
                        ],
                        [
                          0.7777777777777778,
                          "#fb9f3a"
                        ],
                        [
                          0.8888888888888888,
                          "#fdca26"
                        ],
                        [
                          1,
                          "#f0f921"
                        ]
                      ],
                      "sequentialminus": [
                        [
                          0,
                          "#0d0887"
                        ],
                        [
                          0.1111111111111111,
                          "#46039f"
                        ],
                        [
                          0.2222222222222222,
                          "#7201a8"
                        ],
                        [
                          0.3333333333333333,
                          "#9c179e"
                        ],
                        [
                          0.4444444444444444,
                          "#bd3786"
                        ],
                        [
                          0.5555555555555556,
                          "#d8576b"
                        ],
                        [
                          0.6666666666666666,
                          "#ed7953"
                        ],
                        [
                          0.7777777777777778,
                          "#fb9f3a"
                        ],
                        [
                          0.8888888888888888,
                          "#fdca26"
                        ],
                        [
                          1,
                          "#f0f921"
                        ]
                      ]
                    },
                    "colorway": [
                      "#636efa",
                      "#EF553B",
                      "#00cc96",
                      "#ab63fa",
                      "#FFA15A",
                      "#19d3f3",
                      "#FF6692",
                      "#B6E880",
                      "#FF97FF",
                      "#FECB52"
                    ],
                    "font": {
                      "color": "#2a3f5f"
                    },
                    "geo": {
                      "bgcolor": "white",
                      "lakecolor": "white",
                      "landcolor": "#E5ECF6",
                      "showlakes": true,
                      "showland": true,
                      "subunitcolor": "white"
                    },
                    "hoverlabel": {
                      "align": "left"
                    },
                    "hovermode": "closest",
                    "mapbox": {
                      "style": "light"
                    },
                    "paper_bgcolor": "white",
                    "plot_bgcolor": "#E5ECF6",
                    "polar": {
                      "angularaxis": {
                        "gridcolor": "white",
                        "linecolor": "white",
                        "ticks": ""
                      },
                      "bgcolor": "#E5ECF6",
                      "radialaxis": {
                        "gridcolor": "white",
                        "linecolor": "white",
                        "ticks": ""
                      }
                    },
                    "scene": {
                      "xaxis": {
                        "backgroundcolor": "#E5ECF6",
                        "gridcolor": "white",
                        "gridwidth": 2,
                        "linecolor": "white",
                        "showbackground": true,
                        "ticks": "",
                        "zerolinecolor": "white"
                      },
                      "yaxis": {
                        "backgroundcolor": "#E5ECF6",
                        "gridcolor": "white",
                        "gridwidth": 2,
                        "linecolor": "white",
                        "showbackground": true,
                        "ticks": "",
                        "zerolinecolor": "white"
                      },
                      "zaxis": {
                        "backgroundcolor": "#E5ECF6",
                        "gridcolor": "white",
                        "gridwidth": 2,
                        "linecolor": "white",
                        "showbackground": true,
                        "ticks": "",
                        "zerolinecolor": "white"
                      }
                    },
                    "shapedefaults": {
                      "line": {
                        "color": "#2a3f5f"
                      }
                    },
                    "ternary": {
                      "aaxis": {
                        "gridcolor": "white",
                        "linecolor": "white",
                        "ticks": ""
                      },
                      "baxis": {
                        "gridcolor": "white",
                        "linecolor": "white",
                        "ticks": ""
                      },
                      "bgcolor": "#E5ECF6",
                      "caxis": {
                        "gridcolor": "white",
                        "linecolor": "white",
                        "ticks": ""
                      }
                    },
                    "title": {
                      "x": 0.05
                    },
                    "xaxis": {
                      "automargin": true,
                      "gridcolor": "white",
                      "linecolor": "white",
                      "ticks": "",
                      "title": {
                        "standoff": 15
                      },
                      "zerolinecolor": "white",
                      "zerolinewidth": 2
                    },
                    "yaxis": {
                      "automargin": true,
                      "gridcolor": "white",
                      "linecolor": "white",
                      "ticks": "",
                      "title": {
                        "standoff": 15
                      },
                      "zerolinecolor": "white",
                      "zerolinewidth": 2
                    }
                  }
                },
                "title": {
                  "text": "Distribution of Potability Classes"
                }
              }
            }
          },
          "metadata": {},
          "output_type": "display_data"
        }
      ],
      "source": [
        "# Calculate potability counts\n",
        "potability_counts = water['Potability'].value_counts()\n",
        "\n",
        "fig0 = px.pie(names=potability_counts.index,\n",
        "values=potability_counts.values,\n",
        "title='Distribution of Potability Classes',\n",
        "labels={'names': 'Potability'})\n",
        "\n",
        "# Update pie chart colors\n",
        "fig0.update_traces(marker=dict(colors=['#1f77b4', '#aec7e8']))  # Blue colors\n",
        "\n",
        "fig0.show()\n"
      ]
    },
    {
      "cell_type": "markdown",
      "metadata": {
        "id": "boMPIu0Ym-UM"
      },
      "source": [
        "> * This is an issue, due to the biased data points toward the zeroes counts in the target feature [Potability], this will result in a biased training dataset handled to models leading to poor model accuracy"
      ]
    },
    {
      "cell_type": "markdown",
      "metadata": {
        "id": "r1LqAYF7nY8C"
      },
      "source": [
        "### 🔹Proof of the poor accuracy and the need of upscaling"
      ]
    },
    {
      "cell_type": "code",
      "execution_count": 17,
      "metadata": {
        "colab": {
          "base_uri": "https://localhost:8080/"
        },
        "id": "0ZxIWD4mnYiv",
        "outputId": "10d416fe-1343-49f6-d094-5d5e5abc78aa"
      },
      "outputs": [
        {
          "name": "stdout",
          "output_type": "stream",
          "text": [
            "Logistic Regression : 51.68\n",
            "Support Vector Machine : 60.06\n",
            "Decision Tree : 73.48\n"
          ]
        }
      ],
      "source": [
        "X = water.drop(columns=['Potability'], axis=1)\n",
        "y = water['Potability']\n",
        "sc=StandardScaler()\n",
        "features=X.columns\n",
        "X_scaled=sc.fit_transform(X)\n",
        "upsampled_scaled=pd.DataFrame(X_scaled, columns=features)\n",
        "X_train, X_test, y_train,y_test= train_test_split(upsampled_scaled, y, test_size=0.2, random_state=42)\n",
        "\n",
        "#models:\n",
        "Log_reg=LogisticRegression(C=0.1, penalty='l1', solver='liblinear', class_weight='balanced', random_state=0)\n",
        "Svm=SVC(C=10, gamma=1)\n",
        "decision_tree=DecisionTreeClassifier(max_depth=None, min_samples_split=2, random_state=42)\n",
        "\n",
        "classifiers=[('Logistic Regression', Log_reg),('Support Vector Machine', Svm),('Decision Tree', decision_tree)]\n",
        "for classifier_name, classifier in classifiers:\n",
        "  classifier.fit(X_train, y_train)\n",
        "\n",
        "  y_pred= classifier.predict(X_test)\n",
        "  accuracy= accuracy_score(y_test, y_pred)\n",
        "\n",
        "  print('{:s} : {:.2f}'.format(classifier_name, accuracy*100))"
      ]
    },
    {
      "cell_type": "markdown",
      "metadata": {
        "id": "MpYVpTJRoZWh"
      },
      "source": [
        "### 🔹Shuffling and Simple Oversampling"
      ]
    },
    {
      "cell_type": "code",
      "execution_count": 18,
      "metadata": {
        "colab": {
          "base_uri": "https://localhost:8080/"
        },
        "id": "aenNCIQjhDEh",
        "outputId": "49ea4545-c5a3-44d7-ac20-ed992166dfee"
      },
      "outputs": [
        {
          "name": "stdout",
          "output_type": "stream",
          "text": [
            "Before Shuffling and Oversampling:\n",
            "Potability\n",
            "0    1998\n",
            "1    1278\n",
            "Name: count, dtype: int64\n",
            "\n",
            "After Shuffling and Oversampling:\n",
            "Potability\n",
            "0    1998\n",
            "1    1998\n",
            "Name: count, dtype: int64\n"
          ]
        }
      ],
      "source": [
        "print(\"Before Shuffling and Oversampling:\")\n",
        "print(water['Potability'].value_counts())\n",
        "\n",
        "minority_class = water[water['Potability'] == 1]\n",
        "majority_class = water[water['Potability'] == 0]\n",
        "\n",
        "#shuffling the minority class\n",
        "shuffled_minority = shuffle(minority_class)\n",
        "\n",
        "#oversampling the minority class by repeating samples\n",
        "oversampled_minority = shuffled_minority.sample(n=len(majority_class), replace=True, random_state=42)\n",
        "\n",
        "#combining the oversampled minority class with the original majority class\n",
        "upsampled_data = pd.concat([majority_class, oversampled_minority])\n",
        "\n",
        "#shuffling the combined dataset\n",
        "upsampled_data = shuffle(upsampled_data, random_state=42)\n",
        "\n",
        "print(\"\\nAfter Shuffling and Oversampling:\")\n",
        "print(upsampled_data['Potability'].value_counts())"
      ]
    },
    {
      "cell_type": "code",
      "execution_count": 19,
      "metadata": {},
      "outputs": [
        {
          "data": {
            "application/vnd.plotly.v1+json": {
              "config": {
                "plotlyServerURL": "https://plot.ly"
              },
              "data": [
                {
                  "domain": {
                    "x": [
                      0,
                      1
                    ],
                    "y": [
                      0,
                      1
                    ]
                  },
                  "hovertemplate": "Potability=%{label}<br>value=%{value}<extra></extra>",
                  "labels": [
                    0,
                    1
                  ],
                  "legendgroup": "",
                  "marker": {
                    "colors": [
                      "#1f77b4",
                      "#aec7e8"
                    ]
                  },
                  "name": "",
                  "showlegend": true,
                  "type": "pie",
                  "values": [
                    1998,
                    1998
                  ]
                }
              ],
              "layout": {
                "legend": {
                  "tracegroupgap": 0
                },
                "template": {
                  "data": {
                    "bar": [
                      {
                        "error_x": {
                          "color": "#2a3f5f"
                        },
                        "error_y": {
                          "color": "#2a3f5f"
                        },
                        "marker": {
                          "line": {
                            "color": "#E5ECF6",
                            "width": 0.5
                          },
                          "pattern": {
                            "fillmode": "overlay",
                            "size": 10,
                            "solidity": 0.2
                          }
                        },
                        "type": "bar"
                      }
                    ],
                    "barpolar": [
                      {
                        "marker": {
                          "line": {
                            "color": "#E5ECF6",
                            "width": 0.5
                          },
                          "pattern": {
                            "fillmode": "overlay",
                            "size": 10,
                            "solidity": 0.2
                          }
                        },
                        "type": "barpolar"
                      }
                    ],
                    "carpet": [
                      {
                        "aaxis": {
                          "endlinecolor": "#2a3f5f",
                          "gridcolor": "white",
                          "linecolor": "white",
                          "minorgridcolor": "white",
                          "startlinecolor": "#2a3f5f"
                        },
                        "baxis": {
                          "endlinecolor": "#2a3f5f",
                          "gridcolor": "white",
                          "linecolor": "white",
                          "minorgridcolor": "white",
                          "startlinecolor": "#2a3f5f"
                        },
                        "type": "carpet"
                      }
                    ],
                    "choropleth": [
                      {
                        "colorbar": {
                          "outlinewidth": 0,
                          "ticks": ""
                        },
                        "type": "choropleth"
                      }
                    ],
                    "contour": [
                      {
                        "colorbar": {
                          "outlinewidth": 0,
                          "ticks": ""
                        },
                        "colorscale": [
                          [
                            0,
                            "#0d0887"
                          ],
                          [
                            0.1111111111111111,
                            "#46039f"
                          ],
                          [
                            0.2222222222222222,
                            "#7201a8"
                          ],
                          [
                            0.3333333333333333,
                            "#9c179e"
                          ],
                          [
                            0.4444444444444444,
                            "#bd3786"
                          ],
                          [
                            0.5555555555555556,
                            "#d8576b"
                          ],
                          [
                            0.6666666666666666,
                            "#ed7953"
                          ],
                          [
                            0.7777777777777778,
                            "#fb9f3a"
                          ],
                          [
                            0.8888888888888888,
                            "#fdca26"
                          ],
                          [
                            1,
                            "#f0f921"
                          ]
                        ],
                        "type": "contour"
                      }
                    ],
                    "contourcarpet": [
                      {
                        "colorbar": {
                          "outlinewidth": 0,
                          "ticks": ""
                        },
                        "type": "contourcarpet"
                      }
                    ],
                    "heatmap": [
                      {
                        "colorbar": {
                          "outlinewidth": 0,
                          "ticks": ""
                        },
                        "colorscale": [
                          [
                            0,
                            "#0d0887"
                          ],
                          [
                            0.1111111111111111,
                            "#46039f"
                          ],
                          [
                            0.2222222222222222,
                            "#7201a8"
                          ],
                          [
                            0.3333333333333333,
                            "#9c179e"
                          ],
                          [
                            0.4444444444444444,
                            "#bd3786"
                          ],
                          [
                            0.5555555555555556,
                            "#d8576b"
                          ],
                          [
                            0.6666666666666666,
                            "#ed7953"
                          ],
                          [
                            0.7777777777777778,
                            "#fb9f3a"
                          ],
                          [
                            0.8888888888888888,
                            "#fdca26"
                          ],
                          [
                            1,
                            "#f0f921"
                          ]
                        ],
                        "type": "heatmap"
                      }
                    ],
                    "heatmapgl": [
                      {
                        "colorbar": {
                          "outlinewidth": 0,
                          "ticks": ""
                        },
                        "colorscale": [
                          [
                            0,
                            "#0d0887"
                          ],
                          [
                            0.1111111111111111,
                            "#46039f"
                          ],
                          [
                            0.2222222222222222,
                            "#7201a8"
                          ],
                          [
                            0.3333333333333333,
                            "#9c179e"
                          ],
                          [
                            0.4444444444444444,
                            "#bd3786"
                          ],
                          [
                            0.5555555555555556,
                            "#d8576b"
                          ],
                          [
                            0.6666666666666666,
                            "#ed7953"
                          ],
                          [
                            0.7777777777777778,
                            "#fb9f3a"
                          ],
                          [
                            0.8888888888888888,
                            "#fdca26"
                          ],
                          [
                            1,
                            "#f0f921"
                          ]
                        ],
                        "type": "heatmapgl"
                      }
                    ],
                    "histogram": [
                      {
                        "marker": {
                          "pattern": {
                            "fillmode": "overlay",
                            "size": 10,
                            "solidity": 0.2
                          }
                        },
                        "type": "histogram"
                      }
                    ],
                    "histogram2d": [
                      {
                        "colorbar": {
                          "outlinewidth": 0,
                          "ticks": ""
                        },
                        "colorscale": [
                          [
                            0,
                            "#0d0887"
                          ],
                          [
                            0.1111111111111111,
                            "#46039f"
                          ],
                          [
                            0.2222222222222222,
                            "#7201a8"
                          ],
                          [
                            0.3333333333333333,
                            "#9c179e"
                          ],
                          [
                            0.4444444444444444,
                            "#bd3786"
                          ],
                          [
                            0.5555555555555556,
                            "#d8576b"
                          ],
                          [
                            0.6666666666666666,
                            "#ed7953"
                          ],
                          [
                            0.7777777777777778,
                            "#fb9f3a"
                          ],
                          [
                            0.8888888888888888,
                            "#fdca26"
                          ],
                          [
                            1,
                            "#f0f921"
                          ]
                        ],
                        "type": "histogram2d"
                      }
                    ],
                    "histogram2dcontour": [
                      {
                        "colorbar": {
                          "outlinewidth": 0,
                          "ticks": ""
                        },
                        "colorscale": [
                          [
                            0,
                            "#0d0887"
                          ],
                          [
                            0.1111111111111111,
                            "#46039f"
                          ],
                          [
                            0.2222222222222222,
                            "#7201a8"
                          ],
                          [
                            0.3333333333333333,
                            "#9c179e"
                          ],
                          [
                            0.4444444444444444,
                            "#bd3786"
                          ],
                          [
                            0.5555555555555556,
                            "#d8576b"
                          ],
                          [
                            0.6666666666666666,
                            "#ed7953"
                          ],
                          [
                            0.7777777777777778,
                            "#fb9f3a"
                          ],
                          [
                            0.8888888888888888,
                            "#fdca26"
                          ],
                          [
                            1,
                            "#f0f921"
                          ]
                        ],
                        "type": "histogram2dcontour"
                      }
                    ],
                    "mesh3d": [
                      {
                        "colorbar": {
                          "outlinewidth": 0,
                          "ticks": ""
                        },
                        "type": "mesh3d"
                      }
                    ],
                    "parcoords": [
                      {
                        "line": {
                          "colorbar": {
                            "outlinewidth": 0,
                            "ticks": ""
                          }
                        },
                        "type": "parcoords"
                      }
                    ],
                    "pie": [
                      {
                        "automargin": true,
                        "type": "pie"
                      }
                    ],
                    "scatter": [
                      {
                        "fillpattern": {
                          "fillmode": "overlay",
                          "size": 10,
                          "solidity": 0.2
                        },
                        "type": "scatter"
                      }
                    ],
                    "scatter3d": [
                      {
                        "line": {
                          "colorbar": {
                            "outlinewidth": 0,
                            "ticks": ""
                          }
                        },
                        "marker": {
                          "colorbar": {
                            "outlinewidth": 0,
                            "ticks": ""
                          }
                        },
                        "type": "scatter3d"
                      }
                    ],
                    "scattercarpet": [
                      {
                        "marker": {
                          "colorbar": {
                            "outlinewidth": 0,
                            "ticks": ""
                          }
                        },
                        "type": "scattercarpet"
                      }
                    ],
                    "scattergeo": [
                      {
                        "marker": {
                          "colorbar": {
                            "outlinewidth": 0,
                            "ticks": ""
                          }
                        },
                        "type": "scattergeo"
                      }
                    ],
                    "scattergl": [
                      {
                        "marker": {
                          "colorbar": {
                            "outlinewidth": 0,
                            "ticks": ""
                          }
                        },
                        "type": "scattergl"
                      }
                    ],
                    "scattermapbox": [
                      {
                        "marker": {
                          "colorbar": {
                            "outlinewidth": 0,
                            "ticks": ""
                          }
                        },
                        "type": "scattermapbox"
                      }
                    ],
                    "scatterpolar": [
                      {
                        "marker": {
                          "colorbar": {
                            "outlinewidth": 0,
                            "ticks": ""
                          }
                        },
                        "type": "scatterpolar"
                      }
                    ],
                    "scatterpolargl": [
                      {
                        "marker": {
                          "colorbar": {
                            "outlinewidth": 0,
                            "ticks": ""
                          }
                        },
                        "type": "scatterpolargl"
                      }
                    ],
                    "scatterternary": [
                      {
                        "marker": {
                          "colorbar": {
                            "outlinewidth": 0,
                            "ticks": ""
                          }
                        },
                        "type": "scatterternary"
                      }
                    ],
                    "surface": [
                      {
                        "colorbar": {
                          "outlinewidth": 0,
                          "ticks": ""
                        },
                        "colorscale": [
                          [
                            0,
                            "#0d0887"
                          ],
                          [
                            0.1111111111111111,
                            "#46039f"
                          ],
                          [
                            0.2222222222222222,
                            "#7201a8"
                          ],
                          [
                            0.3333333333333333,
                            "#9c179e"
                          ],
                          [
                            0.4444444444444444,
                            "#bd3786"
                          ],
                          [
                            0.5555555555555556,
                            "#d8576b"
                          ],
                          [
                            0.6666666666666666,
                            "#ed7953"
                          ],
                          [
                            0.7777777777777778,
                            "#fb9f3a"
                          ],
                          [
                            0.8888888888888888,
                            "#fdca26"
                          ],
                          [
                            1,
                            "#f0f921"
                          ]
                        ],
                        "type": "surface"
                      }
                    ],
                    "table": [
                      {
                        "cells": {
                          "fill": {
                            "color": "#EBF0F8"
                          },
                          "line": {
                            "color": "white"
                          }
                        },
                        "header": {
                          "fill": {
                            "color": "#C8D4E3"
                          },
                          "line": {
                            "color": "white"
                          }
                        },
                        "type": "table"
                      }
                    ]
                  },
                  "layout": {
                    "annotationdefaults": {
                      "arrowcolor": "#2a3f5f",
                      "arrowhead": 0,
                      "arrowwidth": 1
                    },
                    "autotypenumbers": "strict",
                    "coloraxis": {
                      "colorbar": {
                        "outlinewidth": 0,
                        "ticks": ""
                      }
                    },
                    "colorscale": {
                      "diverging": [
                        [
                          0,
                          "#8e0152"
                        ],
                        [
                          0.1,
                          "#c51b7d"
                        ],
                        [
                          0.2,
                          "#de77ae"
                        ],
                        [
                          0.3,
                          "#f1b6da"
                        ],
                        [
                          0.4,
                          "#fde0ef"
                        ],
                        [
                          0.5,
                          "#f7f7f7"
                        ],
                        [
                          0.6,
                          "#e6f5d0"
                        ],
                        [
                          0.7,
                          "#b8e186"
                        ],
                        [
                          0.8,
                          "#7fbc41"
                        ],
                        [
                          0.9,
                          "#4d9221"
                        ],
                        [
                          1,
                          "#276419"
                        ]
                      ],
                      "sequential": [
                        [
                          0,
                          "#0d0887"
                        ],
                        [
                          0.1111111111111111,
                          "#46039f"
                        ],
                        [
                          0.2222222222222222,
                          "#7201a8"
                        ],
                        [
                          0.3333333333333333,
                          "#9c179e"
                        ],
                        [
                          0.4444444444444444,
                          "#bd3786"
                        ],
                        [
                          0.5555555555555556,
                          "#d8576b"
                        ],
                        [
                          0.6666666666666666,
                          "#ed7953"
                        ],
                        [
                          0.7777777777777778,
                          "#fb9f3a"
                        ],
                        [
                          0.8888888888888888,
                          "#fdca26"
                        ],
                        [
                          1,
                          "#f0f921"
                        ]
                      ],
                      "sequentialminus": [
                        [
                          0,
                          "#0d0887"
                        ],
                        [
                          0.1111111111111111,
                          "#46039f"
                        ],
                        [
                          0.2222222222222222,
                          "#7201a8"
                        ],
                        [
                          0.3333333333333333,
                          "#9c179e"
                        ],
                        [
                          0.4444444444444444,
                          "#bd3786"
                        ],
                        [
                          0.5555555555555556,
                          "#d8576b"
                        ],
                        [
                          0.6666666666666666,
                          "#ed7953"
                        ],
                        [
                          0.7777777777777778,
                          "#fb9f3a"
                        ],
                        [
                          0.8888888888888888,
                          "#fdca26"
                        ],
                        [
                          1,
                          "#f0f921"
                        ]
                      ]
                    },
                    "colorway": [
                      "#636efa",
                      "#EF553B",
                      "#00cc96",
                      "#ab63fa",
                      "#FFA15A",
                      "#19d3f3",
                      "#FF6692",
                      "#B6E880",
                      "#FF97FF",
                      "#FECB52"
                    ],
                    "font": {
                      "color": "#2a3f5f"
                    },
                    "geo": {
                      "bgcolor": "white",
                      "lakecolor": "white",
                      "landcolor": "#E5ECF6",
                      "showlakes": true,
                      "showland": true,
                      "subunitcolor": "white"
                    },
                    "hoverlabel": {
                      "align": "left"
                    },
                    "hovermode": "closest",
                    "mapbox": {
                      "style": "light"
                    },
                    "paper_bgcolor": "white",
                    "plot_bgcolor": "#E5ECF6",
                    "polar": {
                      "angularaxis": {
                        "gridcolor": "white",
                        "linecolor": "white",
                        "ticks": ""
                      },
                      "bgcolor": "#E5ECF6",
                      "radialaxis": {
                        "gridcolor": "white",
                        "linecolor": "white",
                        "ticks": ""
                      }
                    },
                    "scene": {
                      "xaxis": {
                        "backgroundcolor": "#E5ECF6",
                        "gridcolor": "white",
                        "gridwidth": 2,
                        "linecolor": "white",
                        "showbackground": true,
                        "ticks": "",
                        "zerolinecolor": "white"
                      },
                      "yaxis": {
                        "backgroundcolor": "#E5ECF6",
                        "gridcolor": "white",
                        "gridwidth": 2,
                        "linecolor": "white",
                        "showbackground": true,
                        "ticks": "",
                        "zerolinecolor": "white"
                      },
                      "zaxis": {
                        "backgroundcolor": "#E5ECF6",
                        "gridcolor": "white",
                        "gridwidth": 2,
                        "linecolor": "white",
                        "showbackground": true,
                        "ticks": "",
                        "zerolinecolor": "white"
                      }
                    },
                    "shapedefaults": {
                      "line": {
                        "color": "#2a3f5f"
                      }
                    },
                    "ternary": {
                      "aaxis": {
                        "gridcolor": "white",
                        "linecolor": "white",
                        "ticks": ""
                      },
                      "baxis": {
                        "gridcolor": "white",
                        "linecolor": "white",
                        "ticks": ""
                      },
                      "bgcolor": "#E5ECF6",
                      "caxis": {
                        "gridcolor": "white",
                        "linecolor": "white",
                        "ticks": ""
                      }
                    },
                    "title": {
                      "x": 0.05
                    },
                    "xaxis": {
                      "automargin": true,
                      "gridcolor": "white",
                      "linecolor": "white",
                      "ticks": "",
                      "title": {
                        "standoff": 15
                      },
                      "zerolinecolor": "white",
                      "zerolinewidth": 2
                    },
                    "yaxis": {
                      "automargin": true,
                      "gridcolor": "white",
                      "linecolor": "white",
                      "ticks": "",
                      "title": {
                        "standoff": 15
                      },
                      "zerolinecolor": "white",
                      "zerolinewidth": 2
                    }
                  }
                },
                "title": {
                  "text": "Distribution of Potability Classes after oversampling"
                }
              }
            }
          },
          "metadata": {},
          "output_type": "display_data"
        }
      ],
      "source": [
        "# Calculate potability counts\n",
        "potability_counts = upsampled_data['Potability'].value_counts()\n",
        "\n",
        "fig0 = px.pie(names=potability_counts.index,\n",
        "values=potability_counts.values,\n",
        "title='Distribution of Potability Classes after oversampling',\n",
        "labels={'names': 'Potability'})\n",
        "\n",
        "# Update pie chart colors\n",
        "fig0.update_traces(marker=dict(colors=['#1f77b4', '#aec7e8']))  # Blue colors\n",
        "\n",
        "fig0.show()\n"
      ]
    },
    {
      "cell_type": "markdown",
      "metadata": {
        "id": "zWaOl5O1mtr1"
      },
      "source": [
        "### 🔹Outliers"
      ]
    },
    {
      "cell_type": "code",
      "execution_count": 20,
      "metadata": {
        "colab": {
          "base_uri": "https://localhost:8080/",
          "height": 525
        },
        "id": "eP5fRFLuo4eO",
        "outputId": "c6c53161-915c-48cb-86f4-8b4327d17faa"
      },
      "outputs": [
        {
          "data": {
            "image/png": "[encoded data removed]",
            "text/plain": [
              "<Figure size 1800x700 with 1 Axes>"
            ]
          },
          "metadata": {},
          "output_type": "display_data"
        }
      ],
      "source": [
        "columns_to_scale = ['ph', 'Hardness', 'Solids',  'Chloramines', 'Sulfate', 'Conductivity', 'Organic_carbon', 'Trihalomethanes', 'Turbidity']\n",
        "scaler = MinMaxScaler()\n",
        "scaled_water = scaler.fit_transform(upsampled_data[columns_to_scale])\n",
        "\n",
        "#creating a DataFrame with scaled data\n",
        "scaled_water_df = pd.DataFrame(scaled_water, columns=columns_to_scale)\n",
        "\n",
        "plt.figure(figsize=(18,7))\n",
        "sns.boxplot(data=scaled_water_df, palette='Blues')\n",
        "plt.xticks(rotation=45)  #rotating x-axis labels for better readability\n",
        "plt.show()"
      ]
    },
    {
      "cell_type": "markdown",
      "metadata": {
        "id": "EKUNx-VHqo03"
      },
      "source": [
        "### 🔹Calculating number of outliers for each column"
      ]
    },
    {
      "cell_type": "code",
      "execution_count": 21,
      "metadata": {
        "colab": {
          "base_uri": "https://localhost:8080/"
        },
        "id": "V3qm0PpkqQKD",
        "outputId": "1502ca5c-4fa2-4dac-b5c2-01f02521f874"
      },
      "outputs": [
        {
          "name": "stdout",
          "output_type": "stream",
          "text": [
            "Number of outliers in ph: 184\n",
            "Number of outliers in Hardness: 103\n",
            "Number of outliers in Solids: 51\n",
            "Number of outliers in Chloramines: 89\n",
            "Number of outliers in Sulfate: 339\n",
            "Number of outliers in Conductivity: 16\n",
            "Number of outliers in Organic_carbon: 36\n",
            "Number of outliers in Trihalomethanes: 58\n",
            "Number of outliers in Turbidity: 18\n",
            "Number of outliers in Potability: 0\n"
          ]
        }
      ],
      "source": [
        "columns_replace =upsampled_data.columns\n",
        "for col in columns_replace:\n",
        "    #calculating interquartile ranges: Q1,Q3\n",
        "    q25, q75 = np.percentile(upsampled_data[col], 25), np.percentile(upsampled_data[col], 75)\n",
        "    iqr = q75 - q25\n",
        "    #calculating the outlier cutoff\n",
        "    cut_off = iqr * 1.5\n",
        "    lower, upper = q25 - cut_off, q75 + cut_off\n",
        "\n",
        "    outliers = ( ( upsampled_data[col] < lower) | (upsampled_data[col] > upper) )\n",
        "    index_label = upsampled_data[outliers].index\n",
        "    print(f'Number of outliers in {col}: {len(index_label)}')"
      ]
    },
    {
      "cell_type": "code",
      "execution_count": 22,
      "metadata": {
        "colab": {
          "base_uri": "https://localhost:8080/"
        },
        "id": "pCZObcY0r7Vj",
        "outputId": "af429967-7375-4808-d23e-13bae1f6bef3"
      },
      "outputs": [
        {
          "data": {
            "text/html": [
              "<div>\n",
              "<style scoped>\n",
              "    .dataframe tbody tr th:only-of-type {\n",
              "        vertical-align: middle;\n",
              "    }\n",
              "\n",
              "    .dataframe tbody tr th {\n",
              "        vertical-align: top;\n",
              "    }\n",
              "\n",
              "    .dataframe thead th {\n",
              "        text-align: right;\n",
              "    }\n",
              "</style>\n",
              "<table border=\"1\" class=\"dataframe\">\n",
              "  <thead>\n",
              "    <tr style=\"text-align: right;\">\n",
              "      <th></th>\n",
              "      <th>ph</th>\n",
              "      <th>Hardness</th>\n",
              "      <th>Solids</th>\n",
              "      <th>Chloramines</th>\n",
              "      <th>Sulfate</th>\n",
              "      <th>Conductivity</th>\n",
              "      <th>Organic_carbon</th>\n",
              "      <th>Trihalomethanes</th>\n",
              "      <th>Turbidity</th>\n",
              "      <th>Potability</th>\n",
              "    </tr>\n",
              "  </thead>\n",
              "  <tbody>\n",
              "    <tr>\n",
              "      <th>count</th>\n",
              "      <td>3996.000000</td>\n",
              "      <td>3996.000000</td>\n",
              "      <td>3996.000000</td>\n",
              "      <td>3996.000000</td>\n",
              "      <td>3996.000000</td>\n",
              "      <td>3996.000000</td>\n",
              "      <td>3996.000000</td>\n",
              "      <td>3996.000000</td>\n",
              "      <td>3996.000000</td>\n",
              "      <td>3996.000000</td>\n",
              "    </tr>\n",
              "    <tr>\n",
              "      <th>mean</th>\n",
              "      <td>7.067424</td>\n",
              "      <td>196.083033</td>\n",
              "      <td>22260.386896</td>\n",
              "      <td>7.104648</td>\n",
              "      <td>332.322690</td>\n",
              "      <td>426.672339</td>\n",
              "      <td>14.270325</td>\n",
              "      <td>66.512698</td>\n",
              "      <td>3.969775</td>\n",
              "      <td>0.500000</td>\n",
              "    </tr>\n",
              "    <tr>\n",
              "      <th>std</th>\n",
              "      <td>1.443553</td>\n",
              "      <td>33.841288</td>\n",
              "      <td>8881.730260</td>\n",
              "      <td>1.625998</td>\n",
              "      <td>37.469252</td>\n",
              "      <td>80.233821</td>\n",
              "      <td>3.306948</td>\n",
              "      <td>15.530323</td>\n",
              "      <td>0.773514</td>\n",
              "      <td>0.500063</td>\n",
              "    </tr>\n",
              "    <tr>\n",
              "      <th>min</th>\n",
              "      <td>0.000000</td>\n",
              "      <td>47.432000</td>\n",
              "      <td>320.942611</td>\n",
              "      <td>0.352000</td>\n",
              "      <td>129.000000</td>\n",
              "      <td>181.483754</td>\n",
              "      <td>2.200000</td>\n",
              "      <td>0.738000</td>\n",
              "      <td>1.450000</td>\n",
              "      <td>0.000000</td>\n",
              "    </tr>\n",
              "    <tr>\n",
              "      <th>25%</th>\n",
              "      <td>6.306391</td>\n",
              "      <td>175.816120</td>\n",
              "      <td>15884.727515</td>\n",
              "      <td>6.106765</td>\n",
              "      <td>315.142180</td>\n",
              "      <td>367.886678</td>\n",
              "      <td>12.082169</td>\n",
              "      <td>56.714388</td>\n",
              "      <td>3.445574</td>\n",
              "      <td>0.000000</td>\n",
              "    </tr>\n",
              "    <tr>\n",
              "      <th>50%</th>\n",
              "      <td>7.035456</td>\n",
              "      <td>196.824477</td>\n",
              "      <td>21226.665550</td>\n",
              "      <td>7.105831</td>\n",
              "      <td>332.751774</td>\n",
              "      <td>422.022214</td>\n",
              "      <td>14.212209</td>\n",
              "      <td>66.542198</td>\n",
              "      <td>3.954025</td>\n",
              "      <td>0.500000</td>\n",
              "    </tr>\n",
              "    <tr>\n",
              "      <th>75%</th>\n",
              "      <td>7.847829</td>\n",
              "      <td>216.746561</td>\n",
              "      <td>27690.833725</td>\n",
              "      <td>8.094012</td>\n",
              "      <td>349.525271</td>\n",
              "      <td>481.151513</td>\n",
              "      <td>16.554176</td>\n",
              "      <td>76.632089</td>\n",
              "      <td>4.507081</td>\n",
              "      <td>1.000000</td>\n",
              "    </tr>\n",
              "    <tr>\n",
              "      <th>max</th>\n",
              "      <td>14.000000</td>\n",
              "      <td>323.124000</td>\n",
              "      <td>61227.196010</td>\n",
              "      <td>13.127000</td>\n",
              "      <td>481.030642</td>\n",
              "      <td>753.342620</td>\n",
              "      <td>28.300000</td>\n",
              "      <td>120.030077</td>\n",
              "      <td>6.739000</td>\n",
              "      <td>1.000000</td>\n",
              "    </tr>\n",
              "  </tbody>\n",
              "</table>\n",
              "</div>"
            ],
            "text/plain": [
              "                ph     Hardness        Solids  Chloramines      Sulfate  \\\n",
              "count  3996.000000  3996.000000   3996.000000  3996.000000  3996.000000   \n",
              "mean      7.067424   196.083033  22260.386896     7.104648   332.322690   \n",
              "std       1.443553    33.841288   8881.730260     1.625998    37.469252   \n",
              "min       0.000000    47.432000    320.942611     0.352000   129.000000   \n",
              "25%       6.306391   175.816120  15884.727515     6.106765   315.142180   \n",
              "50%       7.035456   196.824477  21226.665550     7.105831   332.751774   \n",
              "75%       7.847829   216.746561  27690.833725     8.094012   349.525271   \n",
              "max      14.000000   323.124000  61227.196010    13.127000   481.030642   \n",
              "\n",
              "       Conductivity  Organic_carbon  Trihalomethanes    Turbidity   Potability  \n",
              "count   3996.000000     3996.000000      3996.000000  3996.000000  3996.000000  \n",
              "mean     426.672339       14.270325        66.512698     3.969775     0.500000  \n",
              "std       80.233821        3.306948        15.530323     0.773514     0.500063  \n",
              "min      181.483754        2.200000         0.738000     1.450000     0.000000  \n",
              "25%      367.886678       12.082169        56.714388     3.445574     0.000000  \n",
              "50%      422.022214       14.212209        66.542198     3.954025     0.500000  \n",
              "75%      481.151513       16.554176        76.632089     4.507081     1.000000  \n",
              "max      753.342620       28.300000       120.030077     6.739000     1.000000  "
            ]
          },
          "execution_count": 22,
          "metadata": {},
          "output_type": "execute_result"
        }
      ],
      "source": [
        "upsampled_data.describe()"
      ]
    },
    {
      "cell_type": "code",
      "execution_count": 23,
      "metadata": {
        "colab": {
          "base_uri": "https://localhost:8080/"
        },
        "id": "psl0Cqcxp0Wf",
        "outputId": "fad5e3dc-4fed-49cd-a521-4045a0786081"
      },
      "outputs": [
        {
          "name": "stdout",
          "output_type": "stream",
          "text": [
            "Minimum value of ph: 0.0\n",
            "Maximum value of ph: 14.0\n"
          ]
        }
      ],
      "source": [
        "min_value = upsampled_data['ph'].min()\n",
        "max_value = upsampled_data['ph'].max()\n",
        "\n",
        "print(\"Minimum value of ph:\", min_value)\n",
        "print(\"Maximum value of ph:\", max_value)"
      ]
    },
    {
      "cell_type": "markdown",
      "metadata": {
        "id": "6lCM_e6Lp-Ss"
      },
      "source": [
        "> * Normal and true values for pH [0-14], so nothing is considered as an outlier"
      ]
    },
    {
      "cell_type": "code",
      "execution_count": 24,
      "metadata": {
        "colab": {
          "base_uri": "https://localhost:8080/"
        },
        "id": "FYn70u_Gu1db",
        "outputId": "1529e0b5-b056-4d89-e654-60db6eb13c14"
      },
      "outputs": [
        {
          "name": "stdout",
          "output_type": "stream",
          "text": [
            "Minimum value of hardness: 47.432\n",
            "Maximum value of hardness: 323.124\n"
          ]
        }
      ],
      "source": [
        "print(\"Minimum value of hardness:\", upsampled_data['Hardness'].min())\n",
        "print(\"Maximum value of hardness:\", upsampled_data['Hardness'].max())"
      ]
    },
    {
      "cell_type": "markdown",
      "metadata": {
        "id": "vWPG9qn3vjSN"
      },
      "source": [
        "> * For water hardness, it is often in the range of 50-500 mg/L"
      ]
    },
    {
      "cell_type": "code",
      "execution_count": 25,
      "metadata": {
        "colab": {
          "base_uri": "https://localhost:8080/"
        },
        "id": "MALWQL_eu-D2",
        "outputId": "352c911d-e84d-4837-c7e5-d84547026d32"
      },
      "outputs": [
        {
          "name": "stdout",
          "output_type": "stream",
          "text": [
            "Minimum value of solids: 320.9426113\n",
            "Maximum value of solids: 61227.19601\n"
          ]
        }
      ],
      "source": [
        "print(\"Minimum value of solids:\", upsampled_data['Solids'].min())\n",
        "print(\"Maximum value of solids:\", upsampled_data['Solids'].max())"
      ]
    },
    {
      "cell_type": "markdown",
      "metadata": {
        "id": "2DAAYsufvtQ0"
      },
      "source": [
        "> * For solids, total dissolved solids (TDS) represent the amount of inorganic and organic substances dissolved in water. TDS values can range from a few tens of milligrams per liter (mg/L) to several thousand mg/L, depending on factors such as the mineral content and pollution levels."
      ]
    },
    {
      "cell_type": "code",
      "execution_count": 26,
      "metadata": {
        "colab": {
          "base_uri": "https://localhost:8080/"
        },
        "id": "siB4Ll2kvXRf",
        "outputId": "b9c4a9ab-a1c1-4ec6-ef32-9ed54ed3eb72"
      },
      "outputs": [
        {
          "name": "stdout",
          "output_type": "stream",
          "text": [
            "Minimum value of chloramines: 0.352\n",
            "Maximum value of chloramines: 13.127\n"
          ]
        }
      ],
      "source": [
        "print(\"Minimum value of chloramines:\", upsampled_data['Chloramines'].min())\n",
        "print(\"Maximum value of chloramines:\", upsampled_data['Chloramines'].max())"
      ]
    },
    {
      "cell_type": "markdown",
      "metadata": {
        "id": "CZmMW62EwA64"
      },
      "source": [
        "> * Chloramines are disinfection byproducts formed when chlorine is used to disinfect water containing ammonia or organic nitrogen compounds.\n",
        "\n",
        "> * The level of chloramines in water can vary depending on several factors, including water treatment processes, source water quality, and environmental conditions.\n",
        "\n",
        "> * Concentrations of chloramines in drinking water are typically in the range of 1-5 mg/L"
      ]
    },
    {
      "cell_type": "code",
      "execution_count": 27,
      "metadata": {
        "colab": {
          "base_uri": "https://localhost:8080/"
        },
        "id": "zpdPE8k7wuob",
        "outputId": "05e9d0a7-304f-499d-cd2c-6d63565bfd89"
      },
      "outputs": [
        {
          "name": "stdout",
          "output_type": "stream",
          "text": [
            "      Chloramines  Potability\n",
            "2424    12.246394           1\n",
            "2447    11.930448           1\n",
            "2350     1.390871           1\n",
            "285      0.530351           1\n",
            "322     11.078872           1\n",
            "...           ...         ...\n",
            "351     13.127000           1\n",
            "757     12.279374           1\n",
            "2395    11.448469           1\n",
            "304     12.363285           1\n",
            "2395    11.448469           1\n",
            "\n",
            "[89 rows x 2 columns]\n"
          ]
        }
      ],
      "source": [
        "Q1_chloramines = upsampled_data['Chloramines'].quantile(0.25)\n",
        "Q3_chloramines = upsampled_data['Chloramines'].quantile(0.75)\n",
        "IQR_chloramines = Q3_chloramines - Q1_chloramines\n",
        "\n",
        "#Define the IQR range\n",
        "IQR_min_chloramines = Q1_chloramines - 1.5 * IQR_chloramines\n",
        "IQR_max_chloramines = Q3_chloramines + 1.5 * IQR_chloramines\n",
        "Chloramines_outliers = upsampled_data[(upsampled_data['Chloramines'] < IQR_min_chloramines) | (upsampled_data['Chloramines'] > IQR_max_chloramines)]\n",
        "\n",
        "# Show the outliers of 'Chloramines' column and their corresponding 'Potability' values\n",
        "print(Chloramines_outliers[['Chloramines', 'Potability']])"
      ]
    },
    {
      "cell_type": "markdown",
      "metadata": {
        "id": "vHCDow0209Na"
      },
      "source": [
        "> * Extreme values of chloramines doesn't have a direct effect on potability: therefore, a correlation coeff. indicating a non-linear relationship."
      ]
    },
    {
      "cell_type": "code",
      "execution_count": 28,
      "metadata": {
        "colab": {
          "base_uri": "https://localhost:8080/"
        },
        "id": "logMz-sRwDnL",
        "outputId": "0259b4c3-5e7e-48e0-a469-e73aef9e25a6"
      },
      "outputs": [
        {
          "name": "stdout",
          "output_type": "stream",
          "text": [
            "Minimum value of sulfate: 129.0\n",
            "Maximum value of sulfate: 481.0306423\n"
          ]
        }
      ],
      "source": [
        "print(\"Minimum value of sulfate:\", upsampled_data['Sulfate'].min())\n",
        "print(\"Maximum value of sulfate:\", upsampled_data['Sulfate'].max())"
      ]
    },
    {
      "cell_type": "markdown",
      "metadata": {
        "id": "bg5-x57A1egZ"
      },
      "source": [
        "> * Sulfate concentrations in water can vary depending on the geological characteristics of the area."
      ]
    },
    {
      "cell_type": "code",
      "execution_count": 29,
      "metadata": {
        "colab": {
          "base_uri": "https://localhost:8080/"
        },
        "id": "jHpsInrU1hgH",
        "outputId": "a6b48099-7e90-441e-cc76-84d9accc027b"
      },
      "outputs": [
        {
          "name": "stdout",
          "output_type": "stream",
          "text": [
            "Minimum value of conductivity: 181.483754\n",
            "Maximum value of conductivity: 753.3426196\n"
          ]
        }
      ],
      "source": [
        "print(\"Minimum value of conductivity:\", upsampled_data['Conductivity'].min())\n",
        "print(\"Maximum value of conductivity:\", upsampled_data['Conductivity'].max())"
      ]
    },
    {
      "cell_type": "markdown",
      "metadata": {
        "id": "Abvc20rW1utf"
      },
      "source": [
        "> * Electrical conductivity is a measure of the ability of water to conduct an electrical current and is related to the concentration of dissolved ions.\n",
        "\n",
        "> * Conductivity values in natural waters can range from less than 50 μS/cm (microsiemens per centimeter) in pure water to several thousand μS/cm in highly mineralized waters."
      ]
    },
    {
      "cell_type": "code",
      "execution_count": 30,
      "metadata": {
        "colab": {
          "base_uri": "https://localhost:8080/"
        },
        "id": "cMJedbGP2t5k",
        "outputId": "ab00833c-7de2-49b8-e3a9-04678a252493"
      },
      "outputs": [
        {
          "name": "stdout",
          "output_type": "stream",
          "text": [
            "Minimum value of organic carbon: 2.2\n",
            "Maximum value of organic carbon: 28.3\n"
          ]
        }
      ],
      "source": [
        "print(\"Minimum value of organic carbon:\", upsampled_data['Organic_carbon'].min())\n",
        "print(\"Maximum value of organic carbon:\", upsampled_data['Organic_carbon'].max())"
      ]
    },
    {
      "cell_type": "markdown",
      "metadata": {
        "id": "ZGPikcOz3DMl"
      },
      "source": [
        "> * The concentration of organic carbon in water can vary widely depending on factors such as the presence of organic matter, pollution levels, and treatment processes.\n",
        "\n",
        "> * Typical levels of organic carbon in natural waters are in the range of 1-10 mg/L"
      ]
    },
    {
      "cell_type": "code",
      "execution_count": 31,
      "metadata": {
        "colab": {
          "base_uri": "https://localhost:8080/"
        },
        "id": "_h9xZYoC7BT_",
        "outputId": "6cdeec66-1ab1-4142-bc3a-f31d57455793"
      },
      "outputs": [
        {
          "name": "stdout",
          "output_type": "stream",
          "text": [
            "      Organic_carbon  Potability\n",
            "1536        5.218233           1\n",
            "1663        4.473092           0\n",
            "3169       23.604298           1\n",
            "2236       27.006707           0\n",
            "1536        5.218233           1\n",
            "227        23.399516           0\n",
            "1287        5.362371           0\n",
            "2680        5.159380           0\n",
            "2224        4.466772           0\n",
            "1827       23.317699           0\n",
            "785         2.200000           1\n",
            "1536        5.218233           1\n",
            "2414        5.196717           1\n",
            "1390        4.371899           0\n",
            "43         23.917601           0\n",
            "2138        4.902888           0\n",
            "1536        5.218233           1\n",
            "1536        5.218233           1\n",
            "785         2.200000           1\n",
            "333         5.315287           1\n",
            "2601       23.667667           0\n",
            "333         5.315287           1\n",
            "2414        5.196717           1\n",
            "1536        5.218233           1\n",
            "876         4.966862           0\n",
            "558        23.514774           0\n",
            "1055       23.952450           0\n",
            "2414        5.196717           1\n",
            "420        23.373265           0\n",
            "1689        5.051695           0\n",
            "3169       23.604298           1\n",
            "1536        5.218233           1\n",
            "1447        4.861631           0\n",
            "2057       24.755392           0\n",
            "2082        5.188466           0\n",
            "1792       28.300000           0\n"
          ]
        }
      ],
      "source": [
        "Q1_organic_carbon = upsampled_data['Organic_carbon'].quantile(0.25)\n",
        "Q3_organic_carbon = upsampled_data['Organic_carbon'].quantile(0.75)\n",
        "IQR_organic_carbon = Q3_organic_carbon - Q1_organic_carbon\n",
        "\n",
        "#Define the IQR range\n",
        "IQR_min_organic_carbon = Q1_organic_carbon - 1.5 * IQR_organic_carbon\n",
        "IQR_max_organic_carbon = Q3_organic_carbon + 1.5 * IQR_organic_carbon\n",
        "organic_carbon_outliers = upsampled_data[(upsampled_data['Organic_carbon'] < IQR_min_organic_carbon) | (upsampled_data['Organic_carbon'] > IQR_max_organic_carbon)]\n",
        "\n",
        "# Show the outliers of 'organic_carbon' column and their corresponding 'Potability' values\n",
        "print(organic_carbon_outliers[['Organic_carbon', 'Potability']])"
      ]
    },
    {
      "cell_type": "markdown",
      "metadata": {
        "id": "_-AU347y7spJ"
      },
      "source": [
        "> * High organic carbon levels doesn't necessarily indicate 0 water potability nor 1"
      ]
    },
    {
      "cell_type": "code",
      "execution_count": 32,
      "metadata": {
        "colab": {
          "base_uri": "https://localhost:8080/"
        },
        "id": "2EFenxla3Ezb",
        "outputId": "a606063b-5df4-427a-ecfc-edf52952ae87"
      },
      "outputs": [
        {
          "name": "stdout",
          "output_type": "stream",
          "text": [
            "Minimum value of trihalomethanes: 0.738\n",
            "Maximum value of trihalomethanes: 120.030077\n"
          ]
        }
      ],
      "source": [
        "print(\"Minimum value of trihalomethanes:\", upsampled_data['Trihalomethanes'].min())\n",
        "print(\"Maximum value of trihalomethanes:\", upsampled_data['Trihalomethanes'].max())"
      ]
    },
    {
      "cell_type": "markdown",
      "metadata": {
        "id": "zIKERoQB3Ts2"
      },
      "source": [
        "> * Trihalomethanes are disinfection byproducts formed when **chlorine** reacts with **organic matter** in water.\n",
        "\n",
        "> * THM concentrations in drinking water are typically regulated and are often below 100 μg/L (micrograms per liter)."
      ]
    },
    {
      "cell_type": "code",
      "execution_count": 33,
      "metadata": {
        "colab": {
          "base_uri": "https://localhost:8080/"
        },
        "id": "MCFTvn8o3VWF",
        "outputId": "ac3427db-7052-4641-c44f-decc980816e0"
      },
      "outputs": [
        {
          "name": "stdout",
          "output_type": "stream",
          "text": [
            "Minimum value of turbidity: 1.45\n",
            "Maximum value of turbidity: 6.739\n"
          ]
        }
      ],
      "source": [
        "print(\"Minimum value of turbidity:\", upsampled_data['Turbidity'].min())\n",
        "print(\"Maximum value of turbidity:\", upsampled_data['Turbidity'].max())"
      ]
    },
    {
      "cell_type": "markdown",
      "metadata": {
        "id": "2FC7tG7k32Kq"
      },
      "source": [
        "> * Turbidity values in natural waters can vary widely depending on factors such as sedimentation, erosion, and anthropogenic activities."
      ]
    },
    {
      "cell_type": "markdown",
      "metadata": {
        "id": "laAv2zfkqyBx"
      },
      "source": [
        "### 🔹Replacing outliers with upper and lower bounds"
      ]
    },
    {
      "cell_type": "code",
      "execution_count": 34,
      "metadata": {
        "id": "6274UCSBqwu4"
      },
      "outputs": [],
      "source": [
        "specified_columns = ['Chloramines', 'Sulfate']\n",
        "columns_replace = upsampled_data[specified_columns]\n",
        "\n",
        "for col in columns_replace:\n",
        "  #calculating interquartile ranges: Q1,Q3:\n",
        "    q25, q75 = np.percentile(upsampled_data[col], 25), np.percentile(upsampled_data[col], 75)\n",
        "    iqr = q75 - q25\n",
        "    #calculate the outlier cutoff:\n",
        "    cut_off = iqr * 1.5\n",
        "    lower, upper = q25 - cut_off, q75 + cut_off\n",
        "    upsampled_data[col] = np.where(upsampled_data[col] < (q25 - cut_off), q25 - cut_off, upsampled_data[col])\n",
        "    upsampled_data[col] = np.where(upsampled_data[col] > (q75 + cut_off), q75 + cut_off, upsampled_data[col])"
      ]
    },
    {
      "cell_type": "markdown",
      "metadata": {
        "id": "582GpL2-CHIc"
      },
      "source": [
        "### 🔹Feature Scaling"
      ]
    },
    {
      "cell_type": "code",
      "execution_count": 35,
      "metadata": {
        "id": "WjBUHAMahEzY"
      },
      "outputs": [],
      "source": [
        "X = upsampled_data.drop(columns=['Potability'], axis=1)\n",
        "y = upsampled_data['Potability']\n",
        "sc=StandardScaler()\n",
        "features=X.columns\n",
        "X_scaled=sc.fit_transform(X)\n",
        "upsampled_scaled=pd.DataFrame(X_scaled, columns=features)"
      ]
    },
    {
      "cell_type": "code",
      "execution_count": 36,
      "metadata": {
        "colab": {
          "base_uri": "https://localhost:8080/",
          "height": 206
        },
        "id": "aYRt7YKlCoAv",
        "outputId": "2be3076e-6e58-410b-e854-888ef4aa1ac3"
      },
      "outputs": [
        {
          "data": {
            "text/html": [
              "<div>\n",
              "<style scoped>\n",
              "    .dataframe tbody tr th:only-of-type {\n",
              "        vertical-align: middle;\n",
              "    }\n",
              "\n",
              "    .dataframe tbody tr th {\n",
              "        vertical-align: top;\n",
              "    }\n",
              "\n",
              "    .dataframe thead th {\n",
              "        text-align: right;\n",
              "    }\n",
              "</style>\n",
              "<table border=\"1\" class=\"dataframe\">\n",
              "  <thead>\n",
              "    <tr style=\"text-align: right;\">\n",
              "      <th></th>\n",
              "      <th>ph</th>\n",
              "      <th>Hardness</th>\n",
              "      <th>Solids</th>\n",
              "      <th>Chloramines</th>\n",
              "      <th>Sulfate</th>\n",
              "      <th>Conductivity</th>\n",
              "      <th>Organic_carbon</th>\n",
              "      <th>Trihalomethanes</th>\n",
              "      <th>Turbidity</th>\n",
              "      <th>Potability</th>\n",
              "    </tr>\n",
              "  </thead>\n",
              "  <tbody>\n",
              "    <tr>\n",
              "      <th>2879</th>\n",
              "      <td>4.227537</td>\n",
              "      <td>201.447487</td>\n",
              "      <td>13122.32958</td>\n",
              "      <td>6.932558</td>\n",
              "      <td>374.843538</td>\n",
              "      <td>402.660774</td>\n",
              "      <td>22.823293</td>\n",
              "      <td>76.469426</td>\n",
              "      <td>4.479628</td>\n",
              "      <td>0</td>\n",
              "    </tr>\n",
              "    <tr>\n",
              "      <th>288</th>\n",
              "      <td>6.552847</td>\n",
              "      <td>198.806940</td>\n",
              "      <td>34006.42073</td>\n",
              "      <td>8.691206</td>\n",
              "      <td>274.904351</td>\n",
              "      <td>477.163907</td>\n",
              "      <td>14.369630</td>\n",
              "      <td>78.173063</td>\n",
              "      <td>4.687986</td>\n",
              "      <td>1</td>\n",
              "    </tr>\n",
              "    <tr>\n",
              "      <th>2889</th>\n",
              "      <td>8.460964</td>\n",
              "      <td>236.831781</td>\n",
              "      <td>13158.84836</td>\n",
              "      <td>5.478276</td>\n",
              "      <td>333.389426</td>\n",
              "      <td>547.911680</td>\n",
              "      <td>16.741463</td>\n",
              "      <td>74.251544</td>\n",
              "      <td>4.728494</td>\n",
              "      <td>0</td>\n",
              "    </tr>\n",
              "    <tr>\n",
              "      <th>2811</th>\n",
              "      <td>7.036752</td>\n",
              "      <td>114.733545</td>\n",
              "      <td>13677.99404</td>\n",
              "      <td>9.981200</td>\n",
              "      <td>401.099908</td>\n",
              "      <td>524.000355</td>\n",
              "      <td>11.384858</td>\n",
              "      <td>71.153285</td>\n",
              "      <td>3.293848</td>\n",
              "      <td>1</td>\n",
              "    </tr>\n",
              "    <tr>\n",
              "      <th>2345</th>\n",
              "      <td>7.617014</td>\n",
              "      <td>214.404363</td>\n",
              "      <td>29818.09504</td>\n",
              "      <td>6.508853</td>\n",
              "      <td>298.351850</td>\n",
              "      <td>494.945537</td>\n",
              "      <td>13.310224</td>\n",
              "      <td>70.048007</td>\n",
              "      <td>3.800553</td>\n",
              "      <td>1</td>\n",
              "    </tr>\n",
              "  </tbody>\n",
              "</table>\n",
              "</div>"
            ],
            "text/plain": [
              "            ph    Hardness       Solids  Chloramines     Sulfate  \\\n",
              "2879  4.227537  201.447487  13122.32958     6.932558  374.843538   \n",
              "288   6.552847  198.806940  34006.42073     8.691206  274.904351   \n",
              "2889  8.460964  236.831781  13158.84836     5.478276  333.389426   \n",
              "2811  7.036752  114.733545  13677.99404     9.981200  401.099908   \n",
              "2345  7.617014  214.404363  29818.09504     6.508853  298.351850   \n",
              "\n",
              "      Conductivity  Organic_carbon  Trihalomethanes  Turbidity  Potability  \n",
              "2879    402.660774       22.823293        76.469426   4.479628           0  \n",
              "288     477.163907       14.369630        78.173063   4.687986           1  \n",
              "2889    547.911680       16.741463        74.251544   4.728494           0  \n",
              "2811    524.000355       11.384858        71.153285   3.293848           1  \n",
              "2345    494.945537       13.310224        70.048007   3.800553           1  "
            ]
          },
          "execution_count": 36,
          "metadata": {},
          "output_type": "execute_result"
        }
      ],
      "source": [
        "upsampled_data.head()"
      ]
    },
    {
      "cell_type": "code",
      "execution_count": 37,
      "metadata": {
        "colab": {
          "base_uri": "https://localhost:8080/",
          "height": 206
        },
        "id": "-W3bzSL_Cq0M",
        "outputId": "c5cd112a-60ff-462f-957b-a2dc3d1fc073"
      },
      "outputs": [
        {
          "data": {
            "text/html": [
              "<div>\n",
              "<style scoped>\n",
              "    .dataframe tbody tr th:only-of-type {\n",
              "        vertical-align: middle;\n",
              "    }\n",
              "\n",
              "    .dataframe tbody tr th {\n",
              "        vertical-align: top;\n",
              "    }\n",
              "\n",
              "    .dataframe thead th {\n",
              "        text-align: right;\n",
              "    }\n",
              "</style>\n",
              "<table border=\"1\" class=\"dataframe\">\n",
              "  <thead>\n",
              "    <tr style=\"text-align: right;\">\n",
              "      <th></th>\n",
              "      <th>ph</th>\n",
              "      <th>Hardness</th>\n",
              "      <th>Solids</th>\n",
              "      <th>Chloramines</th>\n",
              "      <th>Sulfate</th>\n",
              "      <th>Conductivity</th>\n",
              "      <th>Organic_carbon</th>\n",
              "      <th>Trihalomethanes</th>\n",
              "      <th>Turbidity</th>\n",
              "    </tr>\n",
              "  </thead>\n",
              "  <tbody>\n",
              "    <tr>\n",
              "      <th>0</th>\n",
              "      <td>-1.967535</td>\n",
              "      <td>0.158538</td>\n",
              "      <td>-1.028989</td>\n",
              "      <td>-0.108318</td>\n",
              "      <td>1.291163</td>\n",
              "      <td>-0.299307</td>\n",
              "      <td>2.586687</td>\n",
              "      <td>0.641196</td>\n",
              "      <td>0.659222</td>\n",
              "    </tr>\n",
              "    <tr>\n",
              "      <th>1</th>\n",
              "      <td>-0.356510</td>\n",
              "      <td>0.080501</td>\n",
              "      <td>1.322659</td>\n",
              "      <td>1.006335</td>\n",
              "      <td>-1.752451</td>\n",
              "      <td>0.629384</td>\n",
              "      <td>0.030033</td>\n",
              "      <td>0.750907</td>\n",
              "      <td>0.928621</td>\n",
              "    </tr>\n",
              "    <tr>\n",
              "      <th>2</th>\n",
              "      <td>0.965475</td>\n",
              "      <td>1.204264</td>\n",
              "      <td>-1.024877</td>\n",
              "      <td>-1.030061</td>\n",
              "      <td>0.028692</td>\n",
              "      <td>1.511264</td>\n",
              "      <td>0.747350</td>\n",
              "      <td>0.498368</td>\n",
              "      <td>0.980996</td>\n",
              "    </tr>\n",
              "    <tr>\n",
              "      <th>3</th>\n",
              "      <td>-0.021250</td>\n",
              "      <td>-2.404154</td>\n",
              "      <td>-0.966418</td>\n",
              "      <td>1.823950</td>\n",
              "      <td>2.090791</td>\n",
              "      <td>1.213207</td>\n",
              "      <td>-0.872656</td>\n",
              "      <td>0.298845</td>\n",
              "      <td>-0.873948</td>\n",
              "    </tr>\n",
              "    <tr>\n",
              "      <th>4</th>\n",
              "      <td>0.380768</td>\n",
              "      <td>0.541458</td>\n",
              "      <td>0.851034</td>\n",
              "      <td>-0.376867</td>\n",
              "      <td>-1.038365</td>\n",
              "      <td>0.851034</td>\n",
              "      <td>-0.290365</td>\n",
              "      <td>0.227668</td>\n",
              "      <td>-0.218798</td>\n",
              "    </tr>\n",
              "  </tbody>\n",
              "</table>\n",
              "</div>"
            ],
            "text/plain": [
              "         ph  Hardness    Solids  Chloramines   Sulfate  Conductivity  \\\n",
              "0 -1.967535  0.158538 -1.028989    -0.108318  1.291163     -0.299307   \n",
              "1 -0.356510  0.080501  1.322659     1.006335 -1.752451      0.629384   \n",
              "2  0.965475  1.204264 -1.024877    -1.030061  0.028692      1.511264   \n",
              "3 -0.021250 -2.404154 -0.966418     1.823950  2.090791      1.213207   \n",
              "4  0.380768  0.541458  0.851034    -0.376867 -1.038365      0.851034   \n",
              "\n",
              "   Organic_carbon  Trihalomethanes  Turbidity  \n",
              "0        2.586687         0.641196   0.659222  \n",
              "1        0.030033         0.750907   0.928621  \n",
              "2        0.747350         0.498368   0.980996  \n",
              "3       -0.872656         0.298845  -0.873948  \n",
              "4       -0.290365         0.227668  -0.218798  "
            ]
          },
          "execution_count": 37,
          "metadata": {},
          "output_type": "execute_result"
        }
      ],
      "source": [
        "upsampled_scaled.head()"
      ]
    },
    {
      "cell_type": "markdown",
      "metadata": {
        "id": "_TRMZZCGCi5U"
      },
      "source": [
        "### 🔹Modeling"
      ]
    },
    {
      "cell_type": "markdown",
      "metadata": {
        "id": "d3CXF9-fDI70"
      },
      "source": [
        "##### 🔹Splitting train and test data"
      ]
    },
    {
      "cell_type": "code",
      "execution_count": 38,
      "metadata": {
        "id": "ULzit4HZhLoP"
      },
      "outputs": [],
      "source": [
        "X_train, X_test, y_train,y_test= train_test_split(upsampled_scaled, y, test_size=0.2, random_state=42)"
      ]
    },
    {
      "cell_type": "markdown",
      "metadata": {
        "id": "2f6N5FV7LWRi"
      },
      "source": [
        "##### 🔹Logistic Regression, SVM, Decision Tree"
      ]
    },
    {
      "cell_type": "markdown",
      "metadata": {
        "id": "YmsDoLEnDwbl"
      },
      "source": [
        "NOTES:\n",
        "1. logistic regression:\n",
        "- Normalizer: parameter C represents the inverse of regularization strength. It controls the regularization term's impact on the optimization objective. A smaller value of C indicates stronger regularization, which penalizes large coefficients in the model, thus preventing overfitting. Conversely, a larger value of C reduces the strength of regularization, allowing the model to fit the training data more closely. In this case, C=0.1 suggests moderate regularization.\n",
        "\n",
        "- Penalty: determines the regularization penalty applied to the model. In logistic regression, two common penalties are used: L1 regularization ('l1') and L2 regularization ('l2'). L1 regularization adds the absolute value of the coefficients to the loss function, promoting sparsity by encouraging some coefficients to be exactly zero. L2 regularization adds the squared magnitude of the coefficients to the loss function, penalizing large coefficients.\n",
        "\n",
        "- Solver: specifies the optimization algorithm used to fit the logistic regression model to the training data. Different solvers are available for logistic regression, each suitable for different types of datasets and regularization penalties. The 'liblinear' solver is suitable for small to medium-sized datasets and supports both L1 and L2 penalties. It is efficient for binary classification tasks.\n",
        "\n",
        "2. SVM:\n",
        "- Normalizer: parameter C is the regularization parameter of the SVM model. It controls the trade-off between maximizing the margin and minimizing the classification error. A smaller value of C allows for a larger margin but may lead to more misclassifications on the training data. Conversely, a larger value of C penalizes misclassifications more heavily, resulting in a smaller margin but potentially better classification accuracy. C=10 suggests a relatively high penalty for misclassifications.\n",
        "\n",
        "- Gamma: is the kernel coefficient for 'rbf', 'poly', and 'sigmoid' kernels. It defines the influence of a single training example, with low values meaning 'far' and high values meaning 'close'. A low value of gamma indicates a larger radius of influence for each data point, resulting in smoother decision boundaries. Conversely, a high value of gamma means each data point has a smaller radius of influence, leading to more complex decision boundaries that may be more prone to overfitting. gamma=1 suggests a relatively high influence of each training example.\n",
        "\n",
        "3. Decision Tree:\n",
        "- Max depth:  specifies the maximum depth of the decision tree. A decision tree continues to split nodes until either all leaves are pure or the maximum depth is reached. Setting max_depth=None means there is no maximum depth limit, and the tree will grow until all leaves are pure or until all leaves contain fewer samples than min_samples_split.\n",
        "\n",
        "- Min sample split: sets the minimum number of samples required to split an internal node. If the number of samples at a node is less than min_samples_split, the node will not be split, and it will become a leaf node. This parameter helps control the complexity of the decision tree and prevents overfitting by requiring a minimum number of samples for further splitting."
      ]
    },
    {
      "cell_type": "code",
      "execution_count": 39,
      "metadata": {
        "id": "SdHwzrr-hNHq"
      },
      "outputs": [
        {
          "name": "stdout",
          "output_type": "stream",
          "text": [
            "Logistic Regression : 49.25\n",
            "Support Vector Machine : 87.25\n",
            "Decision Tree : 84.88\n"
          ]
        }
      ],
      "source": [
        "# Logistic Regression with hyperparameter tuning\n",
        "log_reg_params = {\n",
        "    'C': [0.1, 1, 10],  # Regularization parameter\n",
        "    'penalty': ['l1', 'l2'],  # Penalty term\n",
        "    'solver': ['liblinear'],  # Algorithm to use in optimization problem\n",
        "    'class_weight': ['balanced'],  # Adjust weights inversely proportional to class frequencies\n",
        "    'random_state': [0]\n",
        "}\n",
        "Log_reg = GridSearchCV(LogisticRegression(), log_reg_params, cv=5, n_jobs=-1)\n",
        "\n",
        "# Support Vector Machine with hyperparameter tuning\n",
        "svm_params = {\n",
        "    'C': [0.1, 1, 10],  # Regularization parameter\n",
        "    'gamma': [0.1, 1, 10],  # Kernel coefficient\n",
        "}\n",
        "Svm = GridSearchCV(SVC(), svm_params, cv=5, n_jobs=-1)\n",
        "\n",
        "# Decision Tree with hyperparameter tuning\n",
        "dt_params = {\n",
        "    'max_depth': [None, 10, 20],  # Maximum depth of the tree\n",
        "    'min_samples_split': [2, 5, 10],  # Minimum number of samples required to split an internal node\n",
        "    'random_state': [42]\n",
        "}\n",
        "decision_tree = GridSearchCV(DecisionTreeClassifier(), dt_params, cv=5, n_jobs=-1)\n",
        "\n",
        "# printing accuracies\n",
        "classifiers=[('Logistic Regression', Log_reg),('Support Vector Machine', Svm),('Decision Tree', decision_tree)]\n",
        "\n",
        "for classifier_name, classifier in classifiers:\n",
        "    classifier.fit(X_train, y_train)\n",
        "    y_pred= classifier.predict(X_test)\n",
        "    accuracy= accuracy_score(y_test, y_pred)\n",
        "    print('{:s} : {:.2f}'.format(classifier_name, accuracy*100))"
      ]
    },
    {
      "cell_type": "markdown",
      "metadata": {
        "id": "4NkkDeqOLOYb"
      },
      "source": [
        "### 🔹Random Forest"
      ]
    },
    {
      "cell_type": "code",
      "execution_count": 40,
      "metadata": {
        "colab": {
          "base_uri": "https://localhost:8080/"
        },
        "id": "N09TnoGvLdxe",
        "outputId": "ed93b356-687f-4e0b-f439-2b348670b208"
      },
      "outputs": [
        {
          "name": "stdout",
          "output_type": "stream",
          "text": [
            "Best Hyperparameters: {'min_samples_leaf': 1, 'n_estimators': 100}\n",
            "Training Accuracy: 88.07868740219092 %\n",
            "Test Accuracy: 84.875 %\n",
            "Accuracy: 84.875 %\n"
          ]
        }
      ],
      "source": [
        "RF_model = RandomForestClassifier()\n",
        "param_grid = {\n",
        "    'n_estimators': [100, 200, 300],\n",
        "    'min_samples_leaf': [1, 2, 4]\n",
        "}\n",
        "grid_search = GridSearchCV(estimator=RF_model, param_grid=param_grid, cv=5, scoring='accuracy')\n",
        "grid_search.fit(X_train, y_train)\n",
        "print(\"Best Hyperparameters:\", grid_search.best_params_)\n",
        "rf_best_model= grid_search.best_estimator_\n",
        "predictions = rf_best_model.predict(X_test)\n",
        "\n",
        "RF_predictions = rf_best_model.predict(X_test)\n",
        "\n",
        "accuracy = accuracy_score(y_test, predictions)\n",
        "accuracy = accuracy_score(y_test, y_pred)\n",
        "\n",
        "print(\"Training Accuracy:\", grid_search.best_score_* 100,'%')\n",
        "print(\"Test Accuracy:\", accuracy * 100,'%')\n",
        "print(\"Accuracy:\", accuracy * 100,'%')\n"
      ]
    },
    {
      "cell_type": "markdown",
      "metadata": {
        "id": "A0Th6nloL1nr"
      },
      "source": [
        "### 🔹Gradiant Boosting"
      ]
    },
    {
      "cell_type": "code",
      "execution_count": 41,
      "metadata": {
        "colab": {
          "base_uri": "https://localhost:8080/"
        },
        "id": "8QrzzfIvLx48",
        "outputId": "e1f1a150-6d0f-4b6f-fc33-3a46d2779a85"
      },
      "outputs": [
        {
          "name": "stdout",
          "output_type": "stream",
          "text": [
            "Test Accuracy: 87.875\n",
            "Train Accuracy: 100.0\n",
            "Overall Accuracy: 87.875\n"
          ]
        }
      ],
      "source": [
        "clf = GradientBoostingClassifier()\n",
        "param_grid = {\n",
        "    'n_estimators': [100, 200, 300],\n",
        "    'learning_rate': [0.05, 0.1, 0.2],\n",
        "    'max_depth': [3, 5, 7]\n",
        "}\n",
        "\n",
        "grid_search = GridSearchCV(clf, param_grid, cv=5, scoring='accuracy', n_jobs=-1)\n",
        "grid_search.fit(X_train, y_train)\n",
        "best_clf = grid_search.best_estimator_\n",
        "best_clf.fit(X_train, y_train)\n",
        "GB_y_pred_test = best_clf.predict(X_test)\n",
        "GB_y_pred_train = best_clf.predict(X_train)\n",
        "\n",
        "# Calculate accuracy on the test set\n",
        "test_accuracy = accuracy_score(y_test, GB_y_pred_test)\n",
        "# Calculate accuracy on the train set\n",
        "train_accuracy = accuracy_score(y_train, GB_y_pred_train)\n",
        "# Calculate overall accuracy\n",
        "overall_accuracy = best_clf.score(X_test, y_test)\n",
        "\n",
        "# Output the accuracies\n",
        "print(\"Test Accuracy:\", test_accuracy * 100)\n",
        "print(\"Train Accuracy:\", train_accuracy * 100)\n",
        "print(\"Overall Accuracy:\", overall_accuracy * 100)"
      ]
    },
    {
      "cell_type": "markdown",
      "metadata": {
        "id": "n8eo3VvTL4_w"
      },
      "source": [
        "### 🔹KNN"
      ]
    },
    {
      "cell_type": "code",
      "execution_count": 42,
      "metadata": {
        "colab": {
          "base_uri": "https://localhost:8080/"
        },
        "id": "2EjObjLmL7-f",
        "outputId": "7d6a7d4b-083a-4c61-b38e-e61e3e6c87b3"
      },
      "outputs": [
        {
          "name": "stdout",
          "output_type": "stream",
          "text": [
            "Test Accuracy: 77.5\n",
            "Train Accuracy: 100.0\n",
            "Overall Accuracy: 77.5\n"
          ]
        }
      ],
      "source": [
        "knn = KNeighborsClassifier(n_neighbors=1)\n",
        "knn.fit(X_train, y_train)\n",
        "knn_predictions_test = knn.predict(X_test)\n",
        "knn_predictions_train = knn.predict(X_train)\n",
        "\n",
        "# Calculate the accuracy of the model on the test set\n",
        "test_accuracy = accuracy_score(y_test, knn_predictions_test)\n",
        "# Calculate the accuracy of the model on the train set\n",
        "train_accuracy = accuracy_score(y_train, knn_predictions_train)\n",
        "# Calculate overall accuracy\n",
        "overall_accuracy = knn.score(X_test, y_test)\n",
        "\n",
        "# Output the accuracies\n",
        "print(\"Test Accuracy:\", test_accuracy * 100)\n",
        "print(\"Train Accuracy:\", train_accuracy * 100)\n",
        "print(\"Overall Accuracy:\", overall_accuracy * 100)"
      ]
    },
    {
      "cell_type": "markdown",
      "metadata": {
        "id": "0vHclH72MC7C"
      },
      "source": [
        "### 🔹Confusion matrices"
      ]
    },
    {
      "cell_type": "code",
      "execution_count": 44,
      "metadata": {
        "colab": {
          "base_uri": "https://localhost:8080/"
        },
        "id": "p5jJDe-JkrER",
        "outputId": "0e1918ee-0d7e-4e12-9c43-b866642d1387"
      },
      "outputs": [
        {
          "data": {
            "image/png": "[encoded data removed]",
            "text/plain": [
              "<Figure size 1500x500 with 6 Axes>"
            ]
          },
          "metadata": {},
          "output_type": "display_data"
        }
      ],
      "source": [
        "classifiers = [('Logistic Regression', Log_reg), ('Support Vector Machine', Svm), ('Decision Tree', decision_tree)]\n",
        "\n",
        "fig, axes = plt.subplots(nrows=1, ncols=3, figsize=(15, 5))\n",
        "\n",
        "for i, (classifier_name, classifier) in enumerate(classifiers):\n",
        "    classifier.fit(X_train, y_train)\n",
        "    y_pred = classifier.predict(X_test)\n",
        "    \n",
        "    # Plot confusion matrix\n",
        "    confusion_mat = confusion_matrix(y_test, y_pred)\n",
        "    sns.heatmap(confusion_mat, annot=True, fmt=\"d\", cmap=\"Blues\", ax=axes[i])\n",
        "    axes[i].set_title(f'{classifier_name} Confusion Matrix')\n",
        "    axes[i].set_xlabel('Predicted Labels')\n",
        "    axes[i].set_ylabel('True Labels')\n",
        "\n",
        "plt.tight_layout()\n",
        "plt.show()"
      ]
    },
    {
      "cell_type": "code",
      "execution_count": 45,
      "metadata": {
        "colab": {
          "base_uri": "https://localhost:8080/",
          "height": 296
        },
        "id": "rxTWUXf9MFzb",
        "outputId": "c0e6ddd5-f0d5-455d-c9ac-b14502916507"
      },
      "outputs": [
        {
          "data": {
            "image/png": "[encoded data removed]",
            "text/plain": [
              "<Figure size 2000x900 with 6 Axes>"
            ]
          },
          "metadata": {},
          "output_type": "display_data"
        }
      ],
      "source": [
        "plt.figure(figsize=(20, 9))\n",
        "\n",
        "\n",
        "# Plot for Random Forest\n",
        "RF_confusion_matrix = confusion_matrix(y_test, RF_predictions)\n",
        "plt.subplot(2, 4, 1)\n",
        "sns.heatmap(RF_confusion_matrix, annot=True, fmt=\"d\", cmap=\"Blues\")\n",
        "plt.title(\"Confusion Matrix for Random Forest\")\n",
        "plt.xlabel(\"Predicted Label\")\n",
        "plt.ylabel(\"True Label\")\n",
        "\n",
        "# Plot for Gradient Boosting\n",
        "GB_confusion_matrix = confusion_matrix(y_test, GB_y_pred_test)\n",
        "plt.subplot(2, 4, 2)\n",
        "sns.heatmap(GB_confusion_matrix, annot=True, fmt=\"d\", cmap=\"Blues\")\n",
        "plt.title(\"Confusion Matrix for Gradient Boosting\")\n",
        "plt.xlabel(\"Predicted Label\")\n",
        "plt.ylabel(\"True Label\")\n",
        "\n",
        "# Plot for K-Nearest Neighbors\n",
        "knn_confusion_matrix = confusion_matrix(y_test, knn_predictions_test)\n",
        "plt.subplot(2, 4, 3)\n",
        "sns.heatmap(knn_confusion_matrix, annot=True, fmt=\"d\", cmap=\"Blues\")\n",
        "plt.title(\"Confusion Matrix for K-Nearest Neighbors\")\n",
        "plt.xlabel(\"Predicted Label\")\n",
        "plt.ylabel(\"True Label\")\n",
        "\n",
        "plt.tight_layout()\n",
        "plt.show()"
      ]
    },
    {
      "cell_type": "markdown",
      "metadata": {},
      "source": [
        "### 🔹Exporting Models"
      ]
    },
    {
      "cell_type": "code",
      "execution_count": 47,
      "metadata": {},
      "outputs": [
        {
          "data": {
            "text/plain": [
              "['knn.joblib']"
            ]
          },
          "execution_count": 47,
          "metadata": {},
          "output_type": "execute_result"
        }
      ],
      "source": [
        "scaler_file =\"scaler.joblib\"\n",
        "joblib.dump(sc, scaler_file)\n",
        "\n",
        "log_reg_file='log_reg.joblib'\n",
        "joblib.dump(Log_reg,log_reg_file)\n",
        "\n",
        "svm_file='svm.joblib'\n",
        "joblib.dump(Svm,svm_file)\n",
        "\n",
        "decision_tree_file='decision_tree.joblib'\n",
        "joblib.dump(decision_tree,decision_tree_file)\n",
        "\n",
        "rf_file='rf.joblib'\n",
        "joblib.dump(rf_best_model,rf_file)\n",
        "\n",
        "gradient_clf_file='GB.joblib'\n",
        "joblib.dump(best_clf,gradient_clf_file)\n",
        "\n",
        "knn_file='knn.joblib'\n",
        "joblib.dump(knn,knn_file)"
      ]
    }
  ],
  "metadata": {
    "colab": {
      "collapsed_sections": [
        "NIp0S_hwlQsI",
        "6PcA4cWEmiGa",
        "r1LqAYF7nY8C",
        "zWaOl5O1mtr1",
        "EKUNx-VHqo03",
        "582GpL2-CHIc",
        "2f6N5FV7LWRi",
        "4NkkDeqOLOYb",
        "A0Th6nloL1nr",
        "n8eo3VvTL4_w",
        "0vHclH72MC7C"
      ],
      "provenance": []
    },
    "kernelspec": {
      "display_name": "Python 3",
      "name": "python3"
    },
    "language_info": {
      "codemirror_mode": {
        "name": "ipython",
        "version": 3
      },
      "file_extension": ".py",
      "mimetype": "text/x-python",
      "name": "python",
      "nbconvert_exporter": "python",
      "pygments_lexer": "ipython3",
      "version": "3.11.8"
    }
  },
  "nbformat": 4,
  "nbformat_minor": 0
}
